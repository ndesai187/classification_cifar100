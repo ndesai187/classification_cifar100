{
 "cells": [
  {
   "cell_type": "markdown",
   "metadata": {
    "colab_type": "text",
    "id": "RkwDSmLAaxNH"
   },
   "source": [
    "# CNN Classifier on cifar-100 (Best Model)"
   ]
  },
  {
   "cell_type": "markdown",
   "metadata": {
    "colab_type": "text",
    "id": "Uxulsfada-XD"
   },
   "source": [
    "### Load google drive to refer to dataset"
   ]
  },
  {
   "cell_type": "code",
   "execution_count": 1,
   "metadata": {
    "colab": {
     "base_uri": "https://localhost:8080/",
     "height": 34
    },
    "colab_type": "code",
    "id": "8iMxAqX9Hj6x",
    "outputId": "947035fa-71e2-4586-a385-9823d2935433"
   },
   "outputs": [
    {
     "name": "stdout",
     "output_type": "stream",
     "text": [
      "Drive already mounted at /content/drive; to attempt to forcibly remount, call drive.mount(\"/content/drive\", force_remount=True).\n"
     ]
    }
   ],
   "source": [
    "from google.colab import drive\n",
    "drive.mount('/content/drive')"
   ]
  },
  {
   "cell_type": "markdown",
   "metadata": {
    "colab_type": "text",
    "id": "jrdeWSKvbFXt"
   },
   "source": [
    "### Load required libraries"
   ]
  },
  {
   "cell_type": "code",
   "execution_count": 2,
   "metadata": {
    "colab": {
     "base_uri": "https://localhost:8080/",
     "height": 80
    },
    "colab_type": "code",
    "id": "VSNBGs6aa_gz",
    "outputId": "fe8708ab-bdf3-4a87-870c-80e1572088cc"
   },
   "outputs": [
    {
     "name": "stderr",
     "output_type": "stream",
     "text": [
      "Using TensorFlow backend.\n"
     ]
    },
    {
     "data": {
      "text/html": [
       "<p style=\"color: red;\">\n",
       "The default version of TensorFlow in Colab will soon switch to TensorFlow 2.x.<br>\n",
       "We recommend you <a href=\"https://www.tensorflow.org/guide/migrate\" target=\"_blank\">upgrade</a> now \n",
       "or ensure your notebook will continue to use TensorFlow 1.x via the <code>%tensorflow_version 1.x</code> magic:\n",
       "<a href=\"https://colab.research.google.com/notebooks/tensorflow_version.ipynb\" target=\"_blank\">more info</a>.</p>\n"
      ],
      "text/plain": [
       "<IPython.core.display.HTML object>"
      ]
     },
     "metadata": {
      "tags": []
     },
     "output_type": "display_data"
    }
   ],
   "source": [
    "# %tensorflow_version 1.x\n",
    "from __future__ import print_function\n",
    "\n",
    "import pickle\n",
    "import matplotlib.pyplot as plt\n",
    "import numpy as np\n",
    "from skimage.color import rgb2gray\n",
    "import collections\n",
    "import xgboost as xgb\n",
    "import lightgbm as lgbm\n",
    "import joblib\n",
    "import time\n",
    "from time import gmtime, strftime, localtime\n",
    "import os\n",
    "\n",
    "# sklearn\n",
    "from sklearn.model_selection import RandomizedSearchCV, GridSearchCV\n",
    "from sklearn.multiclass import OneVsRestClassifier\n",
    "from sklearn.preprocessing import MultiLabelBinarizer, LabelEncoder\n",
    "from sklearn.metrics import f1_score, accuracy_score, recall_score, precision_score\n",
    "from sklearn.preprocessing import StandardScaler, maxabs_scale, minmax_scale\n",
    "from sklearn.decomposition import PCA\n",
    "\n",
    "# keras\n",
    "import keras\n",
    "from keras.preprocessing.image import ImageDataGenerator\n",
    "from keras.models import Sequential\n",
    "from keras.layers import Dense, Dropout, Activation, Flatten, LeakyReLU, PReLU\n",
    "from keras.layers import Conv2D, MaxPooling2D\n",
    "from keras.callbacks import ModelCheckpoint, EarlyStopping\n",
    "from keras.wrappers.scikit_learn import KerasClassifier\n",
    "from keras import regularizers"
   ]
  },
  {
   "cell_type": "markdown",
   "metadata": {
    "colab_type": "text",
    "id": "rKdG81uqbJmJ"
   },
   "source": [
    "### File path to cifar-100\n",
    "- The data has to be present under user's colab notebook directory.\n",
    "- Adjust file_path if required, and it will take effect through out this notebook"
   ]
  },
  {
   "cell_type": "code",
   "execution_count": 0,
   "metadata": {
    "colab": {},
    "colab_type": "code",
    "id": "XNolhvdbbNYT"
   },
   "outputs": [],
   "source": [
    "# Google Colab run\n",
    "file_path = '/content/drive/My Drive/Colab Notebooks/cifar-100-python/'\n",
    "\n",
    "# Local run\n",
    "# file_path = 'cifar-100-python/'"
   ]
  },
  {
   "cell_type": "markdown",
   "metadata": {
    "colab_type": "text",
    "id": "gmgcsdUQbWLD"
   },
   "source": [
    "### Unpickle python files\n",
    "- Train - training set, 50000 images, 5 batches of 10000 images\n",
    "- Test - test set, 10000 images\n",
    "- Meta - label names"
   ]
  },
  {
   "cell_type": "code",
   "execution_count": 0,
   "metadata": {
    "colab": {},
    "colab_type": "code",
    "id": "UM3Ip6TkbXfB"
   },
   "outputs": [],
   "source": [
    "def unpickle(file):\n",
    "    with open(file, 'rb') as fo:\n",
    "        res = pickle.load(fo, encoding='bytes')\n",
    "    return res\n",
    "\n",
    "meta_raw = unpickle(file_path + 'meta')\n",
    "train_raw = unpickle(file_path + 'train')\n",
    "test_raw = unpickle(file_path + 'test')"
   ]
  },
  {
   "cell_type": "markdown",
   "metadata": {
    "colab_type": "text",
    "id": "wcdN5pCPbcnh"
   },
   "source": [
    "### Explore Dataset and Sample images"
   ]
  },
  {
   "cell_type": "code",
   "execution_count": 5,
   "metadata": {
    "colab": {
     "base_uri": "https://localhost:8080/",
     "height": 373
    },
    "colab_type": "code",
    "id": "UbIQrZEIbZ7N",
    "outputId": "3570bd87-86ee-4c8a-ed88-4993b2812fff"
   },
   "outputs": [
    {
     "name": "stdout",
     "output_type": "stream",
     "text": [
      "Data as per RGB channel : (50000, 3, 1024)\n",
      "Data as per RGB channel : (10000, 3, 1024)\n",
      "RGB Data reshaped for matplotlib display : (50000, 32, 32, 3)\n"
     ]
    },
    {
     "data": {
      "image/png": "[encoded data removed]",
      "text/plain": [
       "<Figure size 1080x360 with 10 Axes>"
      ]
     },
     "metadata": {
      "tags": []
     },
     "output_type": "display_data"
    }
   ],
   "source": [
    "# display sample images\n",
    "train_rgb = train_raw[b'data'].reshape(len(train_raw[b'data']),3,1024)\n",
    "print(\"Data as per RGB channel : {}\".format(train_rgb.shape))\n",
    "test_rgb = test_raw[b'data'].reshape(len(test_raw[b'data']),3,1024)\n",
    "print(\"Data as per RGB channel : {}\".format(test_rgb.shape))\n",
    "\n",
    "image_disp = train_raw[b'data'].reshape(len(train_raw[b'data']),3,32,32).transpose(0, 2, 3, 1)\n",
    "print(\"RGB Data reshaped for matplotlib display : {}\".format(image_disp.shape))\n",
    "\n",
    "width = 10\n",
    "height = 10\n",
    "cols = 5\n",
    "rows = 2\n",
    "fig = plt.figure(figsize=(15, 5))\n",
    "\n",
    "for i in range(1,11):\n",
    "  plt.subplot(rows, cols, i)\n",
    "  pixel = image_disp[i]\n",
    "  image_label = train_raw[b'fine_labels'][i]\n",
    "  plt.imshow(pixel, cmap=plt.get_cmap('gray'))\n",
    "  plt.title(\"class : \"  + str(meta_raw[b'fine_label_names'][image_label]) )\n",
    "  plt.xticks([])\n",
    "  plt.yticks([])\n",
    "  \n",
    "plt.show()"
   ]
  },
  {
   "cell_type": "code",
   "execution_count": 6,
   "metadata": {
    "colab": {
     "base_uri": "https://localhost:8080/",
     "height": 51
    },
    "colab_type": "code",
    "id": "G5dKdWEgbj7_",
    "outputId": "6e4a9189-f458-4817-c000-77fe9095afd4"
   },
   "outputs": [
    {
     "name": "stdout",
     "output_type": "stream",
     "text": [
      "(50000,)\n",
      "(10000,)\n"
     ]
    }
   ],
   "source": [
    "# Fetch Train and Test labels\n",
    "train_labels = np.asarray(train_raw[b'fine_labels'])\n",
    "test_labels = np.asarray(test_raw[b'fine_labels'])\n",
    "\n",
    "print(train_labels.shape)\n",
    "print(test_labels.shape)"
   ]
  },
  {
   "cell_type": "markdown",
   "metadata": {
    "colab_type": "text",
    "id": "JF6qKGTcboa6"
   },
   "source": [
    "### Image Pre-processing"
   ]
  },
  {
   "cell_type": "code",
   "execution_count": 0,
   "metadata": {
    "colab": {},
    "colab_type": "code",
    "id": "FBJc0w8tbqu1"
   },
   "outputs": [],
   "source": [
    "# Standardise data\n",
    "def standardize_data(x):\n",
    "    \"\"\"\n",
    "        argument\n",
    "            - input image data in numpy array [3, 1024]\n",
    "        return\n",
    "            - processed image \n",
    "    \"\"\"\n",
    "    mu = x.mean(0)\n",
    "    stdv = x.std(0)\n",
    "    # standard_x = x / 255           # Max division - output range 0 to 1\n",
    "    # standard_x = (x - mu) / stdv   # Standardise mean and std\n",
    "    # standard_x = x / stdv          # only by std\n",
    "    standard_x = x                   # No proprocessing\n",
    "    return standard_x\n",
    "\n",
    "X_train = standardize_data(train_rgb)\n",
    "X_test = standardize_data(test_rgb)"
   ]
  },
  {
   "cell_type": "code",
   "execution_count": 8,
   "metadata": {
    "colab": {
     "base_uri": "https://localhost:8080/",
     "height": 51
    },
    "colab_type": "code",
    "id": "4v-pIMLpbtVm",
    "outputId": "53c5e602-521c-4962-8306-96e082e6d195"
   },
   "outputs": [
    {
     "name": "stdout",
     "output_type": "stream",
     "text": [
      "(50000, 3072) (10000, 3072)\n",
      "1.0 -1.0\n"
     ]
    }
   ],
   "source": [
    "# Using sklearn preprocessing\n",
    "\n",
    "X_train = X_train.reshape(50000,3072)\n",
    "X_test = X_test.reshape(10000,3072)\n",
    "\n",
    "X_train = minmax_scale(train_raw[b'data'], feature_range=(-1,1))\n",
    "X_test = minmax_scale(test_raw[b'data'], feature_range=(-1,1))\n",
    "\n",
    "print(X_train.shape, X_test.shape)\n",
    "# Range after pre-processing\n",
    "print(max(X_train[:,0]), min(X_train[:,0]))"
   ]
  },
  {
   "cell_type": "markdown",
   "metadata": {
    "colab_type": "text",
    "id": "kh4NS81vbx13"
   },
   "source": [
    "## *Experiment Setup*"
   ]
  },
  {
   "cell_type": "code",
   "execution_count": 9,
   "metadata": {
    "colab": {
     "base_uri": "https://localhost:8080/",
     "height": 34
    },
    "colab_type": "code",
    "id": "fGATB8cUbzpI",
    "outputId": "5002ffed-e629-4c1b-94aa-b09e17d075db"
   },
   "outputs": [
    {
     "name": "stdout",
     "output_type": "stream",
     "text": [
      "Fri, 08 Nov 2019 08:37:08 +0000\n"
     ]
    }
   ],
   "source": [
    "# registering time for perfomance measurement\n",
    "start = time.time()\n",
    "print(strftime(\"%a, %d %b %Y %H:%M:%S +0000\", localtime()))"
   ]
  },
  {
   "cell_type": "code",
   "execution_count": 10,
   "metadata": {
    "colab": {
     "base_uri": "https://localhost:8080/",
     "height": 68
    },
    "colab_type": "code",
    "id": "wNYpKRRUb3zx",
    "outputId": "9128941d-5f1d-4ca1-fe87-df571d592cd0"
   },
   "outputs": [
    {
     "name": "stdout",
     "output_type": "stream",
     "text": [
      "x_train shape: (50000, 32, 32, 3)\n",
      "50000 train samples\n",
      "10000 test samples\n"
     ]
    }
   ],
   "source": [
    "# %%capture cap_out --no-display\n",
    "\n",
    "# Initialise parameters\n",
    "batch_size = 32\n",
    "num_classes = 100\n",
    "\n",
    "# Reshape Images \n",
    "x_train = X_train.reshape(50000,3,32,32).transpose(0, 2, 3, 1)\n",
    "x_test = X_test.reshape(10000,3,32,32).transpose(0, 2, 3, 1)\n",
    "# y_train = train_labels\n",
    "# y_test = test_labels\n",
    "\n",
    "print('x_train shape:', x_train.shape)\n",
    "print(x_train.shape[0], 'train samples')\n",
    "print(x_test.shape[0], 'test samples')"
   ]
  },
  {
   "cell_type": "markdown",
   "metadata": {
    "colab_type": "text",
    "id": "II6y2LTjcbdv"
   },
   "source": [
    "#### Optimiser Selection Function"
   ]
  },
  {
   "cell_type": "code",
   "execution_count": 0,
   "metadata": {
    "colab": {},
    "colab_type": "code",
    "id": "W6DnMEO6cfLN"
   },
   "outputs": [],
   "source": [
    "def get_optimizer(opt, eta):\n",
    "      if opt == 'amsgrad':\n",
    "        return keras.optimizers.Adam(lr=eta, decay=1e-6, amsgrad=True)\n",
    "\n",
    "      if opt == 'rmsprop':\n",
    "        return keras.optimizers.RMSprop(lr=eta, decay=1e-6)\n",
    "\n",
    "      if opt == 'adagrad':\n",
    "        return keras.optimizers.Adagrad(lr=eta, decay=1e-6)\n",
    "\n",
    "      if opt == 'adadelta':\n",
    "        return keras.optimizers.Adadelta(lr=eta, decay=1e-6)\n",
    "\n",
    "      if opt == 'adam':\n",
    "        return keras.optimizers.Adam(lr=eta, decay=1e-6)\n",
    "\n",
    "      if opt == 'adamax':\n",
    "        # return keras.optimizers.Adamax(lr=eta, decay=1e-6)\n",
    "        return keras.optimizers.Adamax(decay=1e-6)\n",
    "\n",
    "      if opt == 'nadam':\n",
    "        return keras.optimizers.nadam(lr=eta)"
   ]
  },
  {
   "cell_type": "markdown",
   "metadata": {
    "colab_type": "text",
    "id": "qSR12uqCcmVX"
   },
   "source": [
    "### Create Model Based on Hyper Parameters Supplied"
   ]
  },
  {
   "cell_type": "code",
   "execution_count": 0,
   "metadata": {
    "colab": {},
    "colab_type": "code",
    "id": "2zQogpEQctH9"
   },
   "outputs": [],
   "source": [
    "def create_model(alpha_value, dropout_value, dense_value, loss_type, learning, opt):\n",
    "      print('''Model params are ::: alpha - {}, \n",
    "      dropout - {}, dense - {}, loss - {}, eta - {}, \n",
    "      opt - {}'''.format(alpha_value, dropout_value, dense_value, loss_type, learning, opt))\n",
    "\n",
    "      # create sequential model\n",
    "      model = Sequential()\n",
    "      model.add(Conv2D(32, (3, 3), padding='same', input_shape=x_train.shape[1:]))\n",
    "      # model.add(LeakyReLU(alpha=alpha_value))   # Can be changed to prelu, rrelu etc.\n",
    "      model.add(Activation('elu'))                # Can be changed to 'relu', 'tanh' etc\n",
    "      model.add(Conv2D(32, (3, 3)))\n",
    "      # model.add(LeakyReLU(alpha=alpha_value))\n",
    "      model.add(Activation('elu'))\n",
    "      model.add(MaxPooling2D(pool_size=(2, 2)))\n",
    "      model.add(Dropout(dropout_value))\n",
    "\n",
    "      model.add(Conv2D(64, (3, 3), padding='same'))\n",
    "      # model.add(LeakyReLU(alpha=alpha_value))\n",
    "      model.add(Activation('elu'))\n",
    "      model.add(Conv2D(64, (3, 3)))\n",
    "      # model.add(LeakyReLU(alpha=alpha_value))\n",
    "      model.add(Activation('elu'))\n",
    "      model.add(MaxPooling2D(pool_size=(2, 2)))\n",
    "      model.add(Dropout(dropout_value))\n",
    "\n",
    "      model.add(Conv2D(128, (3, 3), padding='same'))\n",
    "      # model.add(LeakyReLU(alpha=alpha_value))\n",
    "      model.add(Activation('elu'))\n",
    "      model.add(Conv2D(128, (3, 3)))\n",
    "      # model.add(LeakyReLU(alpha=alpha_value))\n",
    "      model.add(Activation('elu'))\n",
    "      model.add(MaxPooling2D(pool_size=(2, 2)))\n",
    "      model.add(Dropout(dropout_value))\n",
    "\n",
    "      model.add(Flatten())\n",
    "      model.add(Dense(dense_value))\n",
    "      # model.add(LeakyReLU(alpha=alpha_value))\n",
    "      model.add(Activation('elu'))\n",
    "      model.add(Dropout(dropout_value + 0.05))\n",
    "      model.add(Dense(num_classes))\n",
    "      model.add(Activation('softmax'))\n",
    "\n",
    "      # Compile model\n",
    "      model.compile(loss=loss_type, \n",
    "                    optimizer=get_optimizer(opt, learning),\n",
    "                    metrics=['accuracy'])\n",
    "      \n",
    "      # Convert class vectors to one hot if loss = KL.\n",
    "      # if(loss_type == \"kullback_leibler_divergence\"):\n",
    "      #     y_train = keras.utils.to_categorical(train_labels, num_classes)\n",
    "      #     y_test = keras.utils.to_categorical(test_labels, num_classes)\n",
    "      # else:\n",
    "      #     y_train = train_labels\n",
    "      #     y_test = test_labels\n",
    "      \n",
    "      return model"
   ]
  },
  {
   "cell_type": "markdown",
   "metadata": {
    "colab_type": "text",
    "id": "jPfYXEageH2l"
   },
   "source": [
    "#### Define Hyper Parameter Grid"
   ]
  },
  {
   "cell_type": "code",
   "execution_count": 0,
   "metadata": {
    "colab": {},
    "colab_type": "code",
    "id": "qT9aphE9eG3i"
   },
   "outputs": [],
   "source": [
    "# fix random seed for reproducibility\n",
    "seed = 7\n",
    "np.random.seed(seed)\n",
    "\n",
    "# set early stopping criteria after which the training will stop\n",
    "pat = 15\n",
    "early_stopping = EarlyStopping(monitor='val_acc', patience=pat, verbose=1)\n",
    "\n",
    "# Set train and test image labels\n",
    "# y_train = keras.utils.to_categorical(train_labels, num_classes)\n",
    "# y_test = keras.utils.to_categorical(test_labels, num_classes)\n",
    "y_train = train_labels\n",
    "y_test = test_labels\n",
    "\n",
    "# grid search parameters\n",
    "alpha_values = [0.3]                            # Tried [0.1, 0.3]\n",
    "dropout_values = [0.3]                         # Tried [0.25, 0.3, 0.35, 0.4]\n",
    "dense_values = [512]\n",
    "loss_types = [\"sparse_categorical_crossentropy\"]    # [\"kullback_leibler_divergence\", \"sparse_categorical_crossentropy\"]\n",
    "learnings = [0.0005]                            # [0.001, 0.0005, 0.0001] \n",
    "opts = ['adamax']                               # ['nadam', 'rmsprop', 'adagrad', 'adadelta']\n",
    "epoch_values = [100]                            # [15,25,50,100]\n",
    "\n",
    "\n",
    "param_grid = dict(opt=opts, \n",
    "                  learning=learnings, \n",
    "                  loss_type=loss_types, \n",
    "                  dense_value=dense_values,\n",
    "                  dropout_value=dropout_values,\n",
    "                  epochs=epoch_values, \n",
    "                  alpha_value=alpha_values)\n"
   ]
  },
  {
   "cell_type": "markdown",
   "metadata": {
    "colab_type": "text",
    "id": "DUUDU6jKi4UV"
   },
   "source": [
    "#### 10-fold cross validation to find best set of hyper parameters"
   ]
  },
  {
   "cell_type": "code",
   "execution_count": 66,
   "metadata": {
    "colab": {
     "base_uri": "https://localhost:8080/",
     "height": 1000
    },
    "colab_type": "code",
    "id": "UVEOf8Xni8Ei",
    "outputId": "cf3c9999-f1a7-4691-9a22-8febb5d478b0"
   },
   "outputs": [
    {
     "name": "stdout",
     "output_type": "stream",
     "text": [
      "Fitting 1 folds for each of 1 candidates, totalling 1 fits\n",
      "Model params are ::: alpha - 0.3, \n",
      "      dropout - 0.3, dense - 512, loss - sparse_categorical_crossentropy, eta - 0.0005, \n",
      "      opt - adamax\n"
     ]
    },
    {
     "name": "stderr",
     "output_type": "stream",
     "text": [
      "[Parallel(n_jobs=1)]: Using backend SequentialBackend with 1 concurrent workers.\n"
     ]
    },
    {
     "name": "stdout",
     "output_type": "stream",
     "text": [
      "Train on 40000 samples, validate on 10000 samples\n",
      "Epoch 1/100\n",
      "40000/40000 [==============================] - 13s 326us/step - loss: 3.7287 - acc: 0.1340 - val_loss: 3.1921 - val_acc: 0.2203\n",
      "Epoch 2/100\n",
      "40000/40000 [==============================] - 10s 243us/step - loss: 3.1170 - acc: 0.2380 - val_loss: 2.8329 - val_acc: 0.3016\n",
      "Epoch 3/100\n",
      "40000/40000 [==============================] - 10s 241us/step - loss: 2.8716 - acc: 0.2879 - val_loss: 2.7245 - val_acc: 0.3259\n",
      "Epoch 4/100\n",
      "40000/40000 [==============================] - 10s 243us/step - loss: 2.7385 - acc: 0.3140 - val_loss: 2.5327 - val_acc: 0.3665\n",
      "Epoch 5/100\n",
      "40000/40000 [==============================] - 10s 240us/step - loss: 2.6398 - acc: 0.3345 - val_loss: 2.4764 - val_acc: 0.3755\n",
      "Epoch 6/100\n",
      "40000/40000 [==============================] - 10s 241us/step - loss: 2.5552 - acc: 0.3505 - val_loss: 2.5187 - val_acc: 0.3778\n",
      "Epoch 7/100\n",
      "40000/40000 [==============================] - 10s 241us/step - loss: 2.4720 - acc: 0.3687 - val_loss: 2.2670 - val_acc: 0.4316\n",
      "Epoch 8/100\n",
      "40000/40000 [==============================] - 10s 241us/step - loss: 2.4066 - acc: 0.3826 - val_loss: 2.2900 - val_acc: 0.4159\n",
      "Epoch 9/100\n",
      "40000/40000 [==============================] - 10s 240us/step - loss: 2.3492 - acc: 0.3913 - val_loss: 2.2406 - val_acc: 0.4341\n",
      "Epoch 10/100\n",
      "40000/40000 [==============================] - 10s 240us/step - loss: 2.3021 - acc: 0.3993 - val_loss: 2.1199 - val_acc: 0.4524\n",
      "Epoch 11/100\n",
      "40000/40000 [==============================] - 10s 241us/step - loss: 2.2518 - acc: 0.4092 - val_loss: 2.1735 - val_acc: 0.4442\n",
      "Epoch 12/100\n",
      "40000/40000 [==============================] - 10s 242us/step - loss: 2.2152 - acc: 0.4194 - val_loss: 2.2395 - val_acc: 0.4342\n",
      "Epoch 13/100\n",
      "40000/40000 [==============================] - 10s 243us/step - loss: 2.1766 - acc: 0.4292 - val_loss: 2.1125 - val_acc: 0.4546\n",
      "Epoch 14/100\n",
      "40000/40000 [==============================] - 10s 250us/step - loss: 2.1449 - acc: 0.4345 - val_loss: 2.0473 - val_acc: 0.4689\n",
      "Epoch 15/100\n",
      "40000/40000 [==============================] - 10s 240us/step - loss: 2.1005 - acc: 0.4420 - val_loss: 2.0935 - val_acc: 0.4537\n",
      "Epoch 16/100\n",
      "40000/40000 [==============================] - 10s 241us/step - loss: 2.0708 - acc: 0.4495 - val_loss: 2.0774 - val_acc: 0.4639\n",
      "Epoch 17/100\n",
      "40000/40000 [==============================] - 10s 242us/step - loss: 2.0410 - acc: 0.4543 - val_loss: 1.9761 - val_acc: 0.4817\n",
      "Epoch 18/100\n",
      "40000/40000 [==============================] - 10s 241us/step - loss: 2.0195 - acc: 0.4589 - val_loss: 2.1089 - val_acc: 0.4632\n",
      "Epoch 19/100\n",
      "40000/40000 [==============================] - 10s 242us/step - loss: 2.0030 - acc: 0.4628 - val_loss: 2.0276 - val_acc: 0.4784\n",
      "Epoch 20/100\n",
      "40000/40000 [==============================] - 10s 239us/step - loss: 1.9764 - acc: 0.4680 - val_loss: 1.9877 - val_acc: 0.4835\n",
      "Epoch 21/100\n",
      "40000/40000 [==============================] - 10s 241us/step - loss: 1.9443 - acc: 0.4737 - val_loss: 2.0272 - val_acc: 0.4751\n",
      "Epoch 22/100\n",
      "40000/40000 [==============================] - 10s 241us/step - loss: 1.9276 - acc: 0.4788 - val_loss: 1.9547 - val_acc: 0.4905\n",
      "Epoch 23/100\n",
      "40000/40000 [==============================] - 10s 239us/step - loss: 1.9038 - acc: 0.4844 - val_loss: 1.9706 - val_acc: 0.4884\n",
      "Epoch 24/100\n",
      "40000/40000 [==============================] - 10s 239us/step - loss: 1.8867 - acc: 0.4871 - val_loss: 2.0099 - val_acc: 0.4794\n",
      "Epoch 25/100\n",
      "40000/40000 [==============================] - 10s 241us/step - loss: 1.8799 - acc: 0.4925 - val_loss: 2.0173 - val_acc: 0.4835\n",
      "Epoch 26/100\n",
      "40000/40000 [==============================] - 10s 241us/step - loss: 1.8526 - acc: 0.4989 - val_loss: 2.0058 - val_acc: 0.4842\n",
      "Epoch 27/100\n",
      "40000/40000 [==============================] - 10s 241us/step - loss: 1.8377 - acc: 0.5001 - val_loss: 1.9377 - val_acc: 0.5027\n",
      "Epoch 28/100\n",
      "40000/40000 [==============================] - 10s 238us/step - loss: 1.8057 - acc: 0.5062 - val_loss: 2.0177 - val_acc: 0.4807\n",
      "Epoch 29/100\n",
      "40000/40000 [==============================] - 10s 242us/step - loss: 1.8109 - acc: 0.5050 - val_loss: 1.9505 - val_acc: 0.4964\n",
      "Epoch 30/100\n",
      "40000/40000 [==============================] - 10s 243us/step - loss: 1.7882 - acc: 0.5120 - val_loss: 1.9548 - val_acc: 0.4911\n",
      "Epoch 31/100\n",
      "40000/40000 [==============================] - 10s 239us/step - loss: 1.7719 - acc: 0.5150 - val_loss: 1.9767 - val_acc: 0.4949\n",
      "Epoch 32/100\n",
      "40000/40000 [==============================] - 10s 241us/step - loss: 1.7602 - acc: 0.5175 - val_loss: 1.9666 - val_acc: 0.4889\n",
      "Epoch 33/100\n",
      "40000/40000 [==============================] - 10s 239us/step - loss: 1.7513 - acc: 0.5196 - val_loss: 2.0533 - val_acc: 0.4798\n",
      "Epoch 34/100\n",
      "40000/40000 [==============================] - 10s 239us/step - loss: 1.7356 - acc: 0.5193 - val_loss: 1.9652 - val_acc: 0.4886\n",
      "Epoch 35/100\n",
      "40000/40000 [==============================] - 10s 241us/step - loss: 1.7167 - acc: 0.5266 - val_loss: 1.9265 - val_acc: 0.5015\n",
      "Epoch 36/100\n",
      "40000/40000 [==============================] - 10s 241us/step - loss: 1.7036 - acc: 0.5293 - val_loss: 1.9640 - val_acc: 0.4903\n",
      "Epoch 37/100\n",
      "40000/40000 [==============================] - 10s 242us/step - loss: 1.6934 - acc: 0.5294 - val_loss: 2.0646 - val_acc: 0.4863\n",
      "Epoch 38/100\n",
      "40000/40000 [==============================] - 10s 241us/step - loss: 1.6820 - acc: 0.5339 - val_loss: 1.9581 - val_acc: 0.4973\n",
      "Epoch 39/100\n",
      "40000/40000 [==============================] - 10s 240us/step - loss: 1.6711 - acc: 0.5343 - val_loss: 1.9469 - val_acc: 0.5006\n",
      "Epoch 40/100\n",
      "40000/40000 [==============================] - 10s 238us/step - loss: 1.6767 - acc: 0.5368 - val_loss: 1.9976 - val_acc: 0.4909\n",
      "Epoch 41/100\n",
      "40000/40000 [==============================] - 10s 240us/step - loss: 1.6502 - acc: 0.5421 - val_loss: 1.9718 - val_acc: 0.4956\n",
      "Epoch 42/100\n",
      "40000/40000 [==============================] - 10s 240us/step - loss: 1.6500 - acc: 0.5413 - val_loss: 1.9695 - val_acc: 0.5028\n",
      "Epoch 43/100\n",
      "40000/40000 [==============================] - 10s 241us/step - loss: 1.6281 - acc: 0.5480 - val_loss: 1.9692 - val_acc: 0.4973\n",
      "Epoch 44/100\n",
      "40000/40000 [==============================] - 10s 242us/step - loss: 1.6271 - acc: 0.5471 - val_loss: 1.9598 - val_acc: 0.5010\n",
      "Epoch 45/100\n",
      "40000/40000 [==============================] - 10s 239us/step - loss: 1.6257 - acc: 0.5504 - val_loss: 1.9524 - val_acc: 0.5059\n",
      "Epoch 46/100\n",
      "40000/40000 [==============================] - 10s 250us/step - loss: 1.5988 - acc: 0.5522 - val_loss: 1.9351 - val_acc: 0.5053\n",
      "Epoch 47/100\n",
      "40000/40000 [==============================] - 10s 240us/step - loss: 1.5941 - acc: 0.5545 - val_loss: 1.9719 - val_acc: 0.4994\n",
      "Epoch 48/100\n",
      "40000/40000 [==============================] - 10s 240us/step - loss: 1.5897 - acc: 0.5548 - val_loss: 1.9352 - val_acc: 0.5113\n",
      "Epoch 49/100\n",
      "40000/40000 [==============================] - 10s 241us/step - loss: 1.5730 - acc: 0.5595 - val_loss: 1.9334 - val_acc: 0.5099\n",
      "Epoch 50/100\n",
      "40000/40000 [==============================] - 10s 240us/step - loss: 1.5773 - acc: 0.5591 - val_loss: 1.9109 - val_acc: 0.5095\n",
      "Epoch 51/100\n",
      "40000/40000 [==============================] - 10s 240us/step - loss: 1.5741 - acc: 0.5603 - val_loss: 2.0221 - val_acc: 0.5017\n",
      "Epoch 52/100\n",
      "40000/40000 [==============================] - 10s 240us/step - loss: 1.5694 - acc: 0.5621 - val_loss: 1.9753 - val_acc: 0.4987\n",
      "Epoch 53/100\n",
      "40000/40000 [==============================] - 10s 239us/step - loss: 1.5522 - acc: 0.5649 - val_loss: 1.9737 - val_acc: 0.5014\n",
      "Epoch 54/100\n",
      "40000/40000 [==============================] - 10s 241us/step - loss: 1.5507 - acc: 0.5645 - val_loss: 1.9885 - val_acc: 0.5027\n",
      "Epoch 55/100\n",
      "40000/40000 [==============================] - 10s 238us/step - loss: 1.5357 - acc: 0.5666 - val_loss: 1.9533 - val_acc: 0.5050\n",
      "Epoch 56/100\n",
      "40000/40000 [==============================] - 10s 239us/step - loss: 1.5246 - acc: 0.5689 - val_loss: 1.9706 - val_acc: 0.5004\n",
      "Epoch 57/100\n",
      "40000/40000 [==============================] - 10s 239us/step - loss: 1.5223 - acc: 0.5692 - val_loss: 1.9669 - val_acc: 0.5107\n",
      "Epoch 58/100\n",
      "40000/40000 [==============================] - 10s 241us/step - loss: 1.5147 - acc: 0.5733 - val_loss: 1.9337 - val_acc: 0.5136\n",
      "Epoch 59/100\n",
      "40000/40000 [==============================] - 10s 240us/step - loss: 1.5204 - acc: 0.5750 - val_loss: 2.0296 - val_acc: 0.4978\n",
      "Epoch 60/100\n",
      "40000/40000 [==============================] - 10s 241us/step - loss: 1.5047 - acc: 0.5748 - val_loss: 1.9527 - val_acc: 0.5058\n",
      "Epoch 61/100\n",
      "40000/40000 [==============================] - 10s 241us/step - loss: 1.4928 - acc: 0.5795 - val_loss: 2.0247 - val_acc: 0.5050\n",
      "Epoch 62/100\n",
      "40000/40000 [==============================] - 10s 241us/step - loss: 1.4836 - acc: 0.5801 - val_loss: 2.0232 - val_acc: 0.4936\n",
      "Epoch 63/100\n",
      "40000/40000 [==============================] - 10s 241us/step - loss: 1.4872 - acc: 0.5802 - val_loss: 1.9597 - val_acc: 0.5036\n",
      "Epoch 64/100\n",
      "40000/40000 [==============================] - 10s 241us/step - loss: 1.4723 - acc: 0.5839 - val_loss: 2.0055 - val_acc: 0.4948\n",
      "Epoch 65/100\n",
      "40000/40000 [==============================] - 10s 242us/step - loss: 1.4765 - acc: 0.5833 - val_loss: 1.9598 - val_acc: 0.5166\n",
      "Epoch 66/100\n",
      "40000/40000 [==============================] - 10s 240us/step - loss: 1.4779 - acc: 0.5820 - val_loss: 1.9868 - val_acc: 0.4972\n",
      "Epoch 67/100\n",
      "40000/40000 [==============================] - 10s 242us/step - loss: 1.4534 - acc: 0.5938 - val_loss: 1.9445 - val_acc: 0.5104\n",
      "Epoch 68/100\n",
      "40000/40000 [==============================] - 10s 240us/step - loss: 1.4690 - acc: 0.5831 - val_loss: 1.9712 - val_acc: 0.5111\n",
      "Epoch 69/100\n",
      "40000/40000 [==============================] - 10s 238us/step - loss: 1.4506 - acc: 0.5879 - val_loss: 1.9352 - val_acc: 0.5088\n",
      "Epoch 70/100\n",
      "40000/40000 [==============================] - 10s 242us/step - loss: 1.4423 - acc: 0.5909 - val_loss: 1.9647 - val_acc: 0.5050\n",
      "Epoch 71/100\n",
      "40000/40000 [==============================] - 10s 240us/step - loss: 1.4431 - acc: 0.5927 - val_loss: 1.9920 - val_acc: 0.5043\n",
      "Epoch 72/100\n",
      "40000/40000 [==============================] - 10s 242us/step - loss: 1.4416 - acc: 0.5893 - val_loss: 1.9840 - val_acc: 0.5134\n",
      "Epoch 73/100\n",
      "40000/40000 [==============================] - 10s 242us/step - loss: 1.4444 - acc: 0.5910 - val_loss: 1.9530 - val_acc: 0.5117\n",
      "Epoch 74/100\n",
      "40000/40000 [==============================] - 10s 239us/step - loss: 1.4170 - acc: 0.5981 - val_loss: 1.9608 - val_acc: 0.4997\n",
      "Epoch 75/100\n",
      "40000/40000 [==============================] - 10s 240us/step - loss: 1.4207 - acc: 0.5959 - val_loss: 1.9494 - val_acc: 0.5123\n",
      "Epoch 76/100\n",
      "40000/40000 [==============================] - 10s 241us/step - loss: 1.4168 - acc: 0.5991 - val_loss: 1.9757 - val_acc: 0.5115\n",
      "Epoch 77/100\n",
      "40000/40000 [==============================] - 9s 237us/step - loss: 1.4175 - acc: 0.5958 - val_loss: 1.9670 - val_acc: 0.5130\n",
      "Epoch 78/100\n",
      "40000/40000 [==============================] - 10s 250us/step - loss: 1.4038 - acc: 0.6024 - val_loss: 2.0374 - val_acc: 0.5086\n",
      "Epoch 79/100\n",
      "40000/40000 [==============================] - 10s 246us/step - loss: 1.4005 - acc: 0.6006 - val_loss: 1.9811 - val_acc: 0.5110\n",
      "Epoch 80/100\n",
      "40000/40000 [==============================] - 10s 244us/step - loss: 1.3991 - acc: 0.6056 - val_loss: 1.9792 - val_acc: 0.5018\n",
      "Epoch 00080: early stopping\n",
      "50000/50000 [==============================] - 5s 95us/step\n",
      "Model params are ::: alpha - 0.3, \n",
      "      dropout - 0.3, dense - 512, loss - sparse_categorical_crossentropy, eta - 0.0005, \n",
      "      opt - adamax\n"
     ]
    },
    {
     "name": "stderr",
     "output_type": "stream",
     "text": [
      "[Parallel(n_jobs=1)]: Done   1 out of   1 | elapsed: 13.0min finished\n"
     ]
    },
    {
     "name": "stdout",
     "output_type": "stream",
     "text": [
      "Train on 40000 samples, validate on 10000 samples\n",
      "Epoch 1/100\n",
      "40000/40000 [==============================] - 13s 329us/step - loss: 3.7452 - acc: 0.1354 - val_loss: 3.3341 - val_acc: 0.2033\n",
      "Epoch 2/100\n",
      "40000/40000 [==============================] - 10s 241us/step - loss: 3.1200 - acc: 0.2396 - val_loss: 2.9964 - val_acc: 0.2634\n",
      "Epoch 3/100\n",
      "40000/40000 [==============================] - 10s 241us/step - loss: 2.8905 - acc: 0.2831 - val_loss: 2.6556 - val_acc: 0.3330\n",
      "Epoch 4/100\n",
      "40000/40000 [==============================] - 10s 242us/step - loss: 2.7533 - acc: 0.3120 - val_loss: 2.4960 - val_acc: 0.3721\n",
      "Epoch 5/100\n",
      "40000/40000 [==============================] - 10s 242us/step - loss: 2.6510 - acc: 0.3321 - val_loss: 2.4683 - val_acc: 0.3781\n",
      "Epoch 6/100\n",
      "40000/40000 [==============================] - 10s 245us/step - loss: 2.5666 - acc: 0.3472 - val_loss: 2.4053 - val_acc: 0.3949\n",
      "Epoch 7/100\n",
      "40000/40000 [==============================] - 10s 242us/step - loss: 2.5025 - acc: 0.3612 - val_loss: 2.3619 - val_acc: 0.4008\n",
      "Epoch 8/100\n",
      "40000/40000 [==============================] - 10s 243us/step - loss: 2.4236 - acc: 0.3761 - val_loss: 2.3456 - val_acc: 0.4073\n",
      "Epoch 9/100\n",
      "40000/40000 [==============================] - 10s 242us/step - loss: 2.3642 - acc: 0.3869 - val_loss: 2.2774 - val_acc: 0.4212\n",
      "Epoch 10/100\n",
      "40000/40000 [==============================] - 10s 241us/step - loss: 2.3093 - acc: 0.4027 - val_loss: 2.1360 - val_acc: 0.4480\n",
      "Epoch 11/100\n",
      "40000/40000 [==============================] - 10s 243us/step - loss: 2.2593 - acc: 0.4130 - val_loss: 2.2182 - val_acc: 0.4331\n",
      "Epoch 12/100\n",
      "40000/40000 [==============================] - 10s 240us/step - loss: 2.2175 - acc: 0.4168 - val_loss: 2.1525 - val_acc: 0.4382\n",
      "Epoch 13/100\n",
      "40000/40000 [==============================] - 10s 241us/step - loss: 2.1818 - acc: 0.4270 - val_loss: 2.1361 - val_acc: 0.4542\n",
      "Epoch 14/100\n",
      "40000/40000 [==============================] - 10s 243us/step - loss: 2.1414 - acc: 0.4328 - val_loss: 2.0942 - val_acc: 0.4515\n",
      "Epoch 15/100\n",
      "40000/40000 [==============================] - 10s 243us/step - loss: 2.1109 - acc: 0.4398 - val_loss: 2.1574 - val_acc: 0.4453\n",
      "Epoch 16/100\n",
      "40000/40000 [==============================] - 10s 240us/step - loss: 2.0728 - acc: 0.4514 - val_loss: 2.0508 - val_acc: 0.4702\n",
      "Epoch 17/100\n",
      "40000/40000 [==============================] - 10s 242us/step - loss: 2.0584 - acc: 0.4515 - val_loss: 2.0560 - val_acc: 0.4726\n",
      "Epoch 18/100\n",
      "40000/40000 [==============================] - 10s 243us/step - loss: 2.0353 - acc: 0.4573 - val_loss: 2.0574 - val_acc: 0.4660\n",
      "Epoch 19/100\n",
      "40000/40000 [==============================] - 10s 241us/step - loss: 1.9929 - acc: 0.4657 - val_loss: 2.0931 - val_acc: 0.4666\n",
      "Epoch 20/100\n",
      "40000/40000 [==============================] - 10s 242us/step - loss: 1.9785 - acc: 0.4696 - val_loss: 2.0441 - val_acc: 0.4776\n",
      "Epoch 21/100\n",
      "40000/40000 [==============================] - 10s 242us/step - loss: 1.9502 - acc: 0.4757 - val_loss: 2.0706 - val_acc: 0.4695\n",
      "Epoch 22/100\n",
      "40000/40000 [==============================] - 10s 240us/step - loss: 1.9367 - acc: 0.4781 - val_loss: 2.0476 - val_acc: 0.4812\n",
      "Epoch 23/100\n",
      "40000/40000 [==============================] - 10s 244us/step - loss: 1.9070 - acc: 0.4841 - val_loss: 2.0546 - val_acc: 0.4723\n",
      "Epoch 24/100\n",
      "40000/40000 [==============================] - 10s 241us/step - loss: 1.8884 - acc: 0.4895 - val_loss: 1.9859 - val_acc: 0.4870\n",
      "Epoch 25/100\n",
      "40000/40000 [==============================] - 10s 243us/step - loss: 1.8788 - acc: 0.4882 - val_loss: 2.0638 - val_acc: 0.4766\n",
      "Epoch 26/100\n",
      "40000/40000 [==============================] - 10s 240us/step - loss: 1.8540 - acc: 0.4940 - val_loss: 1.9888 - val_acc: 0.4907\n",
      "Epoch 27/100\n",
      "40000/40000 [==============================] - 10s 241us/step - loss: 1.8397 - acc: 0.4982 - val_loss: 2.0292 - val_acc: 0.4839\n",
      "Epoch 28/100\n",
      "40000/40000 [==============================] - 10s 244us/step - loss: 1.8228 - acc: 0.5022 - val_loss: 2.0288 - val_acc: 0.4800\n",
      "Epoch 29/100\n",
      "40000/40000 [==============================] - 10s 248us/step - loss: 1.8001 - acc: 0.5113 - val_loss: 2.0272 - val_acc: 0.4788\n",
      "Epoch 30/100\n",
      "40000/40000 [==============================] - 10s 247us/step - loss: 1.7963 - acc: 0.5081 - val_loss: 2.0632 - val_acc: 0.4826\n",
      "Epoch 31/100\n",
      "40000/40000 [==============================] - 10s 245us/step - loss: 1.7719 - acc: 0.5098 - val_loss: 1.9901 - val_acc: 0.4915\n",
      "Epoch 32/100\n",
      "40000/40000 [==============================] - 10s 242us/step - loss: 1.7576 - acc: 0.5186 - val_loss: 1.9639 - val_acc: 0.4940\n",
      "Epoch 33/100\n",
      "40000/40000 [==============================] - 10s 240us/step - loss: 1.7543 - acc: 0.5190 - val_loss: 1.9725 - val_acc: 0.4911\n",
      "Epoch 34/100\n",
      "40000/40000 [==============================] - 10s 241us/step - loss: 1.7399 - acc: 0.5212 - val_loss: 1.9522 - val_acc: 0.4940\n",
      "Epoch 35/100\n",
      "40000/40000 [==============================] - 10s 244us/step - loss: 1.7297 - acc: 0.5224 - val_loss: 1.9711 - val_acc: 0.4908\n",
      "Epoch 36/100\n",
      "40000/40000 [==============================] - 10s 240us/step - loss: 1.7219 - acc: 0.5271 - val_loss: 2.0085 - val_acc: 0.4911\n",
      "Epoch 37/100\n",
      "40000/40000 [==============================] - 10s 243us/step - loss: 1.7034 - acc: 0.5299 - val_loss: 1.9544 - val_acc: 0.4982\n",
      "Epoch 38/100\n",
      "40000/40000 [==============================] - 10s 243us/step - loss: 1.6932 - acc: 0.5311 - val_loss: 2.0268 - val_acc: 0.4919\n",
      "Epoch 39/100\n",
      "40000/40000 [==============================] - 10s 243us/step - loss: 1.6817 - acc: 0.5343 - val_loss: 1.9646 - val_acc: 0.4961\n",
      "Epoch 40/100\n",
      "40000/40000 [==============================] - 10s 242us/step - loss: 1.6892 - acc: 0.5320 - val_loss: 1.9571 - val_acc: 0.4934\n",
      "Epoch 41/100\n",
      "40000/40000 [==============================] - 10s 240us/step - loss: 1.6710 - acc: 0.5388 - val_loss: 1.9952 - val_acc: 0.4855\n",
      "Epoch 42/100\n",
      "40000/40000 [==============================] - 10s 239us/step - loss: 1.6473 - acc: 0.5393 - val_loss: 1.9740 - val_acc: 0.4992\n",
      "Epoch 43/100\n",
      "40000/40000 [==============================] - 10s 243us/step - loss: 1.6449 - acc: 0.5433 - val_loss: 1.9456 - val_acc: 0.5075\n",
      "Epoch 44/100\n",
      "40000/40000 [==============================] - 10s 242us/step - loss: 1.6422 - acc: 0.5456 - val_loss: 1.9771 - val_acc: 0.5052\n",
      "Epoch 45/100\n",
      "40000/40000 [==============================] - 10s 241us/step - loss: 1.6390 - acc: 0.5445 - val_loss: 2.0065 - val_acc: 0.4893\n",
      "Epoch 46/100\n",
      "40000/40000 [==============================] - 10s 243us/step - loss: 1.6205 - acc: 0.5499 - val_loss: 1.9562 - val_acc: 0.5019\n",
      "Epoch 47/100\n",
      "40000/40000 [==============================] - 10s 241us/step - loss: 1.6088 - acc: 0.5519 - val_loss: 1.9814 - val_acc: 0.4978\n",
      "Epoch 48/100\n",
      "40000/40000 [==============================] - 10s 243us/step - loss: 1.6026 - acc: 0.5514 - val_loss: 1.9655 - val_acc: 0.4998\n",
      "Epoch 49/100\n",
      "40000/40000 [==============================] - 10s 242us/step - loss: 1.5908 - acc: 0.5574 - val_loss: 1.9706 - val_acc: 0.4965\n",
      "Epoch 50/100\n",
      "40000/40000 [==============================] - 10s 241us/step - loss: 1.5808 - acc: 0.5560 - val_loss: 1.9377 - val_acc: 0.5072\n",
      "Epoch 51/100\n",
      "40000/40000 [==============================] - 10s 241us/step - loss: 1.5741 - acc: 0.5575 - val_loss: 2.0131 - val_acc: 0.4987\n",
      "Epoch 52/100\n",
      "40000/40000 [==============================] - 10s 241us/step - loss: 1.5718 - acc: 0.5599 - val_loss: 1.9865 - val_acc: 0.5125\n",
      "Epoch 53/100\n",
      "40000/40000 [==============================] - 10s 242us/step - loss: 1.5626 - acc: 0.5590 - val_loss: 1.9358 - val_acc: 0.5093\n",
      "Epoch 54/100\n",
      "40000/40000 [==============================] - 10s 241us/step - loss: 1.5496 - acc: 0.5636 - val_loss: 2.0032 - val_acc: 0.4916\n",
      "Epoch 55/100\n",
      "40000/40000 [==============================] - 10s 243us/step - loss: 1.5460 - acc: 0.5657 - val_loss: 1.9754 - val_acc: 0.5014\n",
      "Epoch 56/100\n",
      "40000/40000 [==============================] - 10s 242us/step - loss: 1.5243 - acc: 0.5721 - val_loss: 1.9713 - val_acc: 0.5029\n",
      "Epoch 57/100\n",
      "40000/40000 [==============================] - 10s 241us/step - loss: 1.5192 - acc: 0.5739 - val_loss: 1.9877 - val_acc: 0.5072\n",
      "Epoch 58/100\n",
      "40000/40000 [==============================] - 10s 241us/step - loss: 1.5376 - acc: 0.5672 - val_loss: 1.9637 - val_acc: 0.5057\n",
      "Epoch 59/100\n",
      "40000/40000 [==============================] - 10s 241us/step - loss: 1.5166 - acc: 0.5707 - val_loss: 1.9761 - val_acc: 0.4973\n",
      "Epoch 60/100\n",
      "40000/40000 [==============================] - 10s 245us/step - loss: 1.4892 - acc: 0.5800 - val_loss: 1.9916 - val_acc: 0.4968\n",
      "Epoch 61/100\n",
      "40000/40000 [==============================] - 10s 246us/step - loss: 1.5087 - acc: 0.5759 - val_loss: 1.9974 - val_acc: 0.4996\n",
      "Epoch 62/100\n",
      "40000/40000 [==============================] - 10s 246us/step - loss: 1.5051 - acc: 0.5755 - val_loss: 2.0549 - val_acc: 0.4908\n",
      "Epoch 63/100\n",
      "40000/40000 [==============================] - 10s 240us/step - loss: 1.5047 - acc: 0.5786 - val_loss: 2.0026 - val_acc: 0.4986\n",
      "Epoch 64/100\n",
      "40000/40000 [==============================] - 10s 241us/step - loss: 1.4898 - acc: 0.5814 - val_loss: 1.9422 - val_acc: 0.5059\n",
      "Epoch 65/100\n",
      "40000/40000 [==============================] - 10s 243us/step - loss: 1.4949 - acc: 0.5795 - val_loss: 1.9894 - val_acc: 0.5018\n",
      "Epoch 66/100\n",
      "40000/40000 [==============================] - 10s 241us/step - loss: 1.4809 - acc: 0.5784 - val_loss: 1.9864 - val_acc: 0.4989\n",
      "Epoch 67/100\n",
      "40000/40000 [==============================] - 10s 241us/step - loss: 1.4658 - acc: 0.5858 - val_loss: 1.9777 - val_acc: 0.5119\n",
      "Epoch 00067: early stopping\n"
     ]
    },
    {
     "data": {
      "text/plain": [
       "['/content/drive/My Drive/Colab Notebooks/cifar-100-python/gs_object.pkl']"
      ]
     },
     "execution_count": 66,
     "metadata": {
      "tags": []
     },
     "output_type": "execute_result"
    }
   ],
   "source": [
    "# create model using function call\n",
    "model = KerasClassifier(build_fn=create_model, verbose=1)\n",
    "\n",
    "grid = GridSearchCV(estimator=model, \n",
    "                    param_grid=param_grid, \n",
    "                    cv=[(slice(None), slice(None))],\n",
    "                    # cv=3,\n",
    "                    # n_jobs=-1,\n",
    "                    verbose=1)\n",
    "\n",
    "grid_result = grid.fit(x_train, y_train,\n",
    "                       batch_size=batch_size,\n",
    "                       shuffle=True,\n",
    "                       validation_split=0.2,\n",
    "                       callbacks=[early_stopping],\n",
    "                       workers=12)\n",
    "\n",
    "joblib.dump(grid_result, file_path + 'gs_object.pkl')"
   ]
  },
  {
   "cell_type": "markdown",
   "metadata": {
    "colab_type": "text",
    "id": "VXfhx4zynmpR"
   },
   "source": [
    "#### List best parameters and evaluate model"
   ]
  },
  {
   "cell_type": "code",
   "execution_count": 67,
   "metadata": {
    "colab": {
     "base_uri": "https://localhost:8080/",
     "height": 479
    },
    "colab_type": "code",
    "id": "oa6uqysyn7WM",
    "outputId": "d50bd55f-c12f-4697-9aa7-b3ac9684cd1b"
   },
   "outputs": [
    {
     "name": "stdout",
     "output_type": "stream",
     "text": [
      "Best: 0.791420 using {'alpha_value': 0.3, 'dense_value': 512, 'dropout_value': 0.3, 'epochs': 100, 'learning': 0.0005, 'loss_type': 'sparse_categorical_crossentropy', 'opt': 'adamax'}\n",
      "{'mean_fit_time': array([775.4856472]), 'std_fit_time': array([0.]), 'mean_score_time': array([4.74851346]), 'std_score_time': array([0.]), 'param_alpha_value': masked_array(data=[0.3],\n",
      "             mask=[False],\n",
      "       fill_value='?',\n",
      "            dtype=object), 'param_dense_value': masked_array(data=[512],\n",
      "             mask=[False],\n",
      "       fill_value='?',\n",
      "            dtype=object), 'param_dropout_value': masked_array(data=[0.3],\n",
      "             mask=[False],\n",
      "       fill_value='?',\n",
      "            dtype=object), 'param_epochs': masked_array(data=[100],\n",
      "             mask=[False],\n",
      "       fill_value='?',\n",
      "            dtype=object), 'param_learning': masked_array(data=[0.0005],\n",
      "             mask=[False],\n",
      "       fill_value='?',\n",
      "            dtype=object), 'param_loss_type': masked_array(data=['sparse_categorical_crossentropy'],\n",
      "             mask=[False],\n",
      "       fill_value='?',\n",
      "            dtype=object), 'param_opt': masked_array(data=['adamax'],\n",
      "             mask=[False],\n",
      "       fill_value='?',\n",
      "            dtype=object), 'params': [{'alpha_value': 0.3, 'dense_value': 512, 'dropout_value': 0.3, 'epochs': 100, 'learning': 0.0005, 'loss_type': 'sparse_categorical_crossentropy', 'opt': 'adamax'}], 'split0_test_score': array([0.79142]), 'mean_test_score': array([0.79142]), 'std_test_score': array([0.]), 'rank_test_score': array([1], dtype=int32)}\n",
      "10000/10000 [==============================] - 1s 99us/step\n",
      "Test loss: 1.950057797241211\n",
      "Test accuracy: 0.5162\n"
     ]
    }
   ],
   "source": [
    "print(\"Best: %f using %s\" % (grid_result.best_score_, grid_result.best_params_))\n",
    "print(grid_result.cv_results_)\n",
    "\n",
    "# Score trained model.\n",
    "scores = grid_result.best_estimator_.model.evaluate(x_test, y_test, verbose=1)\n",
    "print('Test loss:', scores[0])\n",
    "print('Test accuracy:', scores[1])"
   ]
  },
  {
   "cell_type": "code",
   "execution_count": 68,
   "metadata": {
    "colab": {
     "base_uri": "https://localhost:8080/",
     "height": 68
    },
    "colab_type": "code",
    "id": "DuGMuB_dqXvS",
    "outputId": "9e66fc17-50e1-4e6d-b2ca-f6fe1cd8ea5b"
   },
   "outputs": [
    {
     "name": "stdout",
     "output_type": "stream",
     "text": [
      "--- Total time taken in Training and Validation ---\n",
      "--- 6483.6488156318665 sec ---\n",
      "Fri, 08 Nov 2019 10:25:12 +0000\n"
     ]
    }
   ],
   "source": [
    "print(\"--- Total time taken in Training and Validation ---\")\n",
    "print(\"--- %s sec ---\" % (time.time() - start))\n",
    "print(strftime(\"%a, %d %b %Y %H:%M:%S +0000\", localtime()))"
   ]
  },
  {
   "cell_type": "markdown",
   "metadata": {
    "colab_type": "text",
    "id": "-mt7BqDjoLbm"
   },
   "source": [
    "### Visualise Best Model"
   ]
  },
  {
   "cell_type": "code",
   "execution_count": 70,
   "metadata": {
    "colab": {
     "base_uri": "https://localhost:8080/",
     "height": 1000
    },
    "colab_type": "code",
    "id": "dImyPATmoKKp",
    "outputId": "51441aff-57fa-4cac-afff-078a23035b0b"
   },
   "outputs": [
    {
     "name": "stdout",
     "output_type": "stream",
     "text": [
      "Model: \"sequential_24\"\n",
      "_________________________________________________________________\n",
      "Layer (type)                 Output Shape              Param #   \n",
      "=================================================================\n",
      "conv2d_135 (Conv2D)          (None, 32, 32, 32)        896       \n",
      "_________________________________________________________________\n",
      "activation_179 (Activation)  (None, 32, 32, 32)        0         \n",
      "_________________________________________________________________\n",
      "conv2d_136 (Conv2D)          (None, 30, 30, 32)        9248      \n",
      "_________________________________________________________________\n",
      "activation_180 (Activation)  (None, 30, 30, 32)        0         \n",
      "_________________________________________________________________\n",
      "max_pooling2d_68 (MaxPooling (None, 15, 15, 32)        0         \n",
      "_________________________________________________________________\n",
      "dropout_91 (Dropout)         (None, 15, 15, 32)        0         \n",
      "_________________________________________________________________\n",
      "conv2d_137 (Conv2D)          (None, 15, 15, 64)        18496     \n",
      "_________________________________________________________________\n",
      "activation_181 (Activation)  (None, 15, 15, 64)        0         \n",
      "_________________________________________________________________\n",
      "conv2d_138 (Conv2D)          (None, 13, 13, 64)        36928     \n",
      "_________________________________________________________________\n",
      "activation_182 (Activation)  (None, 13, 13, 64)        0         \n",
      "_________________________________________________________________\n",
      "max_pooling2d_69 (MaxPooling (None, 6, 6, 64)          0         \n",
      "_________________________________________________________________\n",
      "dropout_92 (Dropout)         (None, 6, 6, 64)          0         \n",
      "_________________________________________________________________\n",
      "conv2d_139 (Conv2D)          (None, 6, 6, 128)         73856     \n",
      "_________________________________________________________________\n",
      "activation_183 (Activation)  (None, 6, 6, 128)         0         \n",
      "_________________________________________________________________\n",
      "conv2d_140 (Conv2D)          (None, 4, 4, 128)         147584    \n",
      "_________________________________________________________________\n",
      "activation_184 (Activation)  (None, 4, 4, 128)         0         \n",
      "_________________________________________________________________\n",
      "max_pooling2d_70 (MaxPooling (None, 2, 2, 128)         0         \n",
      "_________________________________________________________________\n",
      "dropout_93 (Dropout)         (None, 2, 2, 128)         0         \n",
      "_________________________________________________________________\n",
      "flatten_24 (Flatten)         (None, 512)               0         \n",
      "_________________________________________________________________\n",
      "dense_45 (Dense)             (None, 512)               262656    \n",
      "_________________________________________________________________\n",
      "activation_185 (Activation)  (None, 512)               0         \n",
      "_________________________________________________________________\n",
      "dropout_94 (Dropout)         (None, 512)               0         \n",
      "_________________________________________________________________\n",
      "dense_46 (Dense)             (None, 100)               51300     \n",
      "_________________________________________________________________\n",
      "activation_186 (Activation)  (None, 100)               0         \n",
      "=================================================================\n",
      "Total params: 600,964\n",
      "Trainable params: 600,964\n",
      "Non-trainable params: 0\n",
      "_________________________________________________________________\n"
     ]
    },
    {
     "data": {
      "image/png": "[encoded data removed]",
      "text/plain": [
       "<IPython.core.display.Image object>"
      ]
     },
     "execution_count": 70,
     "metadata": {
      "tags": []
     },
     "output_type": "execute_result"
    }
   ],
   "source": [
    "grid_result.best_estimator_.model.summary()\n",
    "\n",
    "from keras.utils import plot_model\n",
    "plot_model(grid_result.best_estimator_.model, to_file='model.png')"
   ]
  },
  {
   "cell_type": "markdown",
   "metadata": {
    "colab_type": "text",
    "id": "C3IODgdMvVx3"
   },
   "source": [
    "### Predict Train and Test Labels"
   ]
  },
  {
   "cell_type": "code",
   "execution_count": 0,
   "metadata": {
    "colab": {},
    "colab_type": "code",
    "id": "KQ4VVkpVqgTf"
   },
   "outputs": [],
   "source": [
    "# Predictions on train and test set\n",
    "y_train_preds = grid_result.best_estimator_.model.predict_classes(x_train)\n",
    "y_test_preds = grid_result.best_estimator_.model.predict_classes(x_test)"
   ]
  },
  {
   "cell_type": "code",
   "execution_count": 72,
   "metadata": {
    "colab": {
     "base_uri": "https://localhost:8080/",
     "height": 34
    },
    "colab_type": "code",
    "id": "j74dTzYLx44P",
    "outputId": "eb8cd644-2d13-4b03-aede-b8efa4ef98fd"
   },
   "outputs": [
    {
     "data": {
      "text/plain": [
       "(10000,)"
      ]
     },
     "execution_count": 72,
     "metadata": {
      "tags": []
     },
     "output_type": "execute_result"
    }
   ],
   "source": [
    "y_test_preds.shape"
   ]
  },
  {
   "cell_type": "markdown",
   "metadata": {
    "colab_type": "text",
    "id": "luHobbpdvZ0L"
   },
   "source": [
    "#### Evaluation Metric - *Training* Set"
   ]
  },
  {
   "cell_type": "code",
   "execution_count": 73,
   "metadata": {
    "colab": {
     "base_uri": "https://localhost:8080/",
     "height": 153
    },
    "colab_type": "code",
    "id": "Ul9zvlA7qbtn",
    "outputId": "41f03e78-e5cd-45ff-9575-f9dba94bce75"
   },
   "outputs": [
    {
     "name": "stdout",
     "output_type": "stream",
     "text": [
      "--------------------------------------------------------------------------------\n",
      "Evaluation Metric - Training Set\n",
      "--------------------------------------------------------------------------------\n",
      "\n",
      "Accuracy: 0.78368\n",
      "f1_Score: 0.7839673294004255\n",
      "Rrecision: 0.7926460141431552\n",
      "Recall: 0.78368\n"
     ]
    }
   ],
   "source": [
    "print(\"-\"*80)\n",
    "print(\"Evaluation Metric - Training Set\")\n",
    "print(\"-\"*80)\n",
    "\n",
    "train_accuracy = accuracy_score(train_labels,y_train_preds)\n",
    "print(\"\\nAccuracy:\",train_accuracy)\n",
    "\n",
    "train_f1_score = f1_score(train_labels,y_train_preds, average = 'weighted')\n",
    "print(\"f1_Score:\",train_f1_score)\n",
    "\n",
    "train_precision = precision_score(train_labels,y_train_preds, average = 'weighted')\n",
    "print(\"Rrecision:\",train_precision)\n",
    "\n",
    "train_recall = recall_score(train_labels,y_train_preds, average = 'weighted')\n",
    "print(\"Recall:\",train_recall)"
   ]
  },
  {
   "cell_type": "markdown",
   "metadata": {
    "colab_type": "text",
    "id": "w4Q5Y8QcveXz"
   },
   "source": [
    "#### Evaluation Metric - *Test* Set"
   ]
  },
  {
   "cell_type": "code",
   "execution_count": 74,
   "metadata": {
    "colab": {
     "base_uri": "https://localhost:8080/",
     "height": 153
    },
    "colab_type": "code",
    "id": "P0FeALFXqsav",
    "outputId": "e5ba64f5-651b-4189-fc95-f9ad61e5656a"
   },
   "outputs": [
    {
     "name": "stdout",
     "output_type": "stream",
     "text": [
      "--------------------------------------------------------------------------------\n",
      "Evaluation Metric - Test Set\n",
      "--------------------------------------------------------------------------------\n",
      "\n",
      "Accuracy: 0.5162\n",
      "f1_Score: 0.5130015761595499\n",
      "Rrecision: 0.5246324307132634\n",
      "Recall: 0.5162\n"
     ]
    }
   ],
   "source": [
    "print(\"-\"*80)\n",
    "print(\"Evaluation Metric - Test Set\")\n",
    "print(\"-\"*80)\n",
    "\n",
    "test_accuracy = accuracy_score(test_labels,y_test_preds)\n",
    "print(\"\\nAccuracy:\",test_accuracy)\n",
    "\n",
    "test_f1_score = f1_score(test_labels,y_test_preds, average = 'weighted')\n",
    "print(\"f1_Score:\",test_f1_score)\n",
    "\n",
    "test_precision = precision_score(test_labels,y_test_preds, average = 'weighted')\n",
    "print(\"Rrecision:\",test_precision)\n",
    "\n",
    "test_recall = recall_score(test_labels,y_test_preds, average = 'weighted')\n",
    "print(\"Recall:\",test_recall)\n"
   ]
  },
  {
   "cell_type": "markdown",
   "metadata": {
    "colab_type": "text",
    "id": "w3Xv3WW7vroc"
   },
   "source": [
    "### Test Set Prediction Heatmap"
   ]
  },
  {
   "cell_type": "code",
   "execution_count": 75,
   "metadata": {
    "colab": {
     "base_uri": "https://localhost:8080/",
     "height": 504
    },
    "colab_type": "code",
    "id": "qkabKdLlqvBp",
    "outputId": "696edae5-0133-4e49-bb45-1831372b303a"
   },
   "outputs": [
    {
     "data": {
      "text/plain": [
       "<matplotlib.axes._subplots.AxesSubplot at 0x7fb9e36bc8d0>"
      ]
     },
     "execution_count": 75,
     "metadata": {
      "tags": []
     },
     "output_type": "execute_result"
    },
    {
     "data": {
      "image/png": "[encoded data removed]",
      "text/plain": [
       "<Figure size 1080x576 with 2 Axes>"
      ]
     },
     "metadata": {
      "tags": []
     },
     "output_type": "display_data"
    }
   ],
   "source": [
    "#Check model accuracy, F1 score, Specivity and sensitivity\n",
    "import seaborn as sn\n",
    "import pandas as pd\n",
    "import matplotlib.pyplot as plt\n",
    "from sklearn.metrics import classification_report, confusion_matrix\n",
    "\n",
    "df_cm = confusion_matrix(test_labels,y_test_preds)\n",
    "df_cm = pd.DataFrame(df_cm)\n",
    "\n",
    "plt.figure(figsize = (15,8))\n",
    "sn.heatmap(df_cm)"
   ]
  },
  {
   "cell_type": "markdown",
   "metadata": {
    "colab_type": "text",
    "id": "uqahgCrKvt0m"
   },
   "source": [
    "### Test Set Classification Report"
   ]
  },
  {
   "cell_type": "code",
   "execution_count": 76,
   "metadata": {
    "colab": {
     "base_uri": "https://localhost:8080/",
     "height": 1000
    },
    "colab_type": "code",
    "id": "5SNPSEC7qxx_",
    "outputId": "5f6c9b80-b611-4688-a266-24b74399c660"
   },
   "outputs": [
    {
     "name": "stdout",
     "output_type": "stream",
     "text": [
      "              precision    recall  f1-score   support\n",
      "\n",
      "           0       0.74      0.83      0.78       100\n",
      "           1       0.73      0.66      0.69       100\n",
      "           2       0.40      0.35      0.37       100\n",
      "           3       0.32      0.26      0.29       100\n",
      "           4       0.33      0.38      0.35       100\n",
      "           5       0.48      0.39      0.43       100\n",
      "           6       0.60      0.43      0.50       100\n",
      "           7       0.63      0.46      0.53       100\n",
      "           8       0.71      0.67      0.69       100\n",
      "           9       0.65      0.66      0.66       100\n",
      "          10       0.47      0.28      0.35       100\n",
      "          11       0.33      0.30      0.32       100\n",
      "          12       0.53      0.58      0.55       100\n",
      "          13       0.62      0.45      0.52       100\n",
      "          14       0.57      0.44      0.50       100\n",
      "          15       0.40      0.32      0.36       100\n",
      "          16       0.58      0.46      0.51       100\n",
      "          17       0.68      0.75      0.71       100\n",
      "          18       0.51      0.39      0.44       100\n",
      "          19       0.55      0.36      0.44       100\n",
      "          20       0.77      0.72      0.75       100\n",
      "          21       0.51      0.71      0.59       100\n",
      "          22       0.54      0.53      0.53       100\n",
      "          23       0.54      0.68      0.60       100\n",
      "          24       0.57      0.77      0.65       100\n",
      "          25       0.52      0.39      0.45       100\n",
      "          26       0.54      0.49      0.51       100\n",
      "          27       0.28      0.48      0.35       100\n",
      "          28       0.73      0.70      0.71       100\n",
      "          29       0.51      0.40      0.45       100\n",
      "          30       0.40      0.57      0.47       100\n",
      "          31       0.45      0.54      0.49       100\n",
      "          32       0.52      0.46      0.49       100\n",
      "          33       0.42      0.48      0.45       100\n",
      "          34       0.44      0.60      0.51       100\n",
      "          35       0.33      0.31      0.32       100\n",
      "          36       0.60      0.51      0.55       100\n",
      "          37       0.54      0.44      0.48       100\n",
      "          38       0.35      0.30      0.32       100\n",
      "          39       0.69      0.68      0.69       100\n",
      "          40       0.56      0.38      0.45       100\n",
      "          41       0.74      0.67      0.71       100\n",
      "          42       0.53      0.53      0.53       100\n",
      "          43       0.50      0.65      0.56       100\n",
      "          44       0.24      0.23      0.23       100\n",
      "          45       0.39      0.35      0.37       100\n",
      "          46       0.34      0.22      0.27       100\n",
      "          47       0.53      0.68      0.59       100\n",
      "          48       0.70      0.86      0.77       100\n",
      "          49       0.71      0.65      0.68       100\n",
      "          50       0.34      0.20      0.25       100\n",
      "          51       0.57      0.49      0.53       100\n",
      "          52       0.62      0.70      0.66       100\n",
      "          53       0.74      0.74      0.74       100\n",
      "          54       0.63      0.57      0.60       100\n",
      "          55       0.16      0.14      0.15       100\n",
      "          56       0.75      0.79      0.77       100\n",
      "          57       0.71      0.56      0.63       100\n",
      "          58       0.79      0.66      0.72       100\n",
      "          59       0.51      0.45      0.48       100\n",
      "          60       0.68      0.82      0.74       100\n",
      "          61       0.59      0.60      0.59       100\n",
      "          62       0.70      0.52      0.60       100\n",
      "          63       0.33      0.55      0.42       100\n",
      "          64       0.30      0.28      0.29       100\n",
      "          65       0.24      0.37      0.29       100\n",
      "          66       0.38      0.43      0.40       100\n",
      "          67       0.48      0.35      0.40       100\n",
      "          68       0.77      0.75      0.76       100\n",
      "          69       0.77      0.69      0.73       100\n",
      "          70       0.49      0.61      0.54       100\n",
      "          71       0.51      0.79      0.62       100\n",
      "          72       0.21      0.38      0.27       100\n",
      "          73       0.40      0.39      0.39       100\n",
      "          74       0.36      0.28      0.31       100\n",
      "          75       0.78      0.67      0.72       100\n",
      "          76       0.68      0.77      0.72       100\n",
      "          77       0.52      0.34      0.41       100\n",
      "          78       0.34      0.29      0.31       100\n",
      "          79       0.62      0.53      0.57       100\n",
      "          80       0.27      0.23      0.25       100\n",
      "          81       0.43      0.73      0.54       100\n",
      "          82       0.86      0.81      0.84       100\n",
      "          83       0.52      0.33      0.40       100\n",
      "          84       0.51      0.40      0.45       100\n",
      "          85       0.58      0.70      0.64       100\n",
      "          86       0.55      0.63      0.59       100\n",
      "          87       0.58      0.59      0.59       100\n",
      "          88       0.52      0.51      0.52       100\n",
      "          89       0.52      0.61      0.56       100\n",
      "          90       0.48      0.56      0.52       100\n",
      "          91       0.66      0.67      0.66       100\n",
      "          92       0.53      0.24      0.33       100\n",
      "          93       0.40      0.28      0.33       100\n",
      "          94       0.69      0.85      0.76       100\n",
      "          95       0.37      0.61      0.46       100\n",
      "          96       0.48      0.53      0.50       100\n",
      "          97       0.43      0.52      0.47       100\n",
      "          98       0.23      0.28      0.25       100\n",
      "          99       0.52      0.43      0.47       100\n",
      "\n",
      "    accuracy                           0.52     10000\n",
      "   macro avg       0.52      0.52      0.51     10000\n",
      "weighted avg       0.52      0.52      0.51     10000\n",
      "\n"
     ]
    }
   ],
   "source": [
    "print(classification_report(test_labels,y_test_preds))  "
   ]
  }
 ],
 "metadata": {
  "accelerator": "GPU",
  "colab": {
   "collapsed_sections": [],
   "name": "cifar-100-CNN.ipynb",
   "provenance": []
  },
  "kernelspec": {
   "display_name": "Python 3",
   "language": "python",
   "name": "python3"
  },
  "language_info": {
   "codemirror_mode": {
    "name": "ipython",
    "version": 3
   },
   "file_extension": ".py",
   "mimetype": "text/x-python",
   "name": "python",
   "nbconvert_exporter": "python",
   "pygments_lexer": "ipython3",
   "version": "3.7.3"
  }
 },
 "nbformat": 4,
 "nbformat_minor": 1
}
