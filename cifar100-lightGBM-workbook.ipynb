{
  "nbformat": 4,
  "nbformat_minor": 0,
  "metadata": {
    "colab": {
      "name": "cifar-100-lightGBM.ipynb",
      "provenance": [],
      "collapsed_sections": []
    },
    "kernelspec": {
      "name": "python3",
      "display_name": "Python 3"
    }
  },
  "cells": [
    {
      "cell_type": "markdown",
      "metadata": {
        "id": "xpuk-kR_sKJ9",
        "colab_type": "text"
      },
      "source": [
        "# Light GBM Classifier on cifar-100 (Model 2)"
      ]
    },
    {
      "cell_type": "markdown",
      "metadata": {
        "id": "UW3bvtfIuhaU",
        "colab_type": "text"
      },
      "source": [
        "### Load google drive to refer to dataset"
      ]
    },
    {
      "cell_type": "code",
      "metadata": {
        "id": "8Er1MG7QrTZp",
        "colab_type": "code",
        "colab": {
          "base_uri": "https://localhost:8080/",
          "height": 34
        },
        "outputId": "67385cc3-c66b-45d7-c77a-91deed467882"
      },
      "source": [
        "from google.colab import drive\n",
        "drive.mount('/content/drive')"
      ],
      "execution_count": 1,
      "outputs": [
        {
          "output_type": "stream",
          "text": [
            "Drive already mounted at /content/drive; to attempt to forcibly remount, call drive.mount(\"/content/drive\", force_remount=True).\n"
          ],
          "name": "stdout"
        }
      ]
    },
    {
      "cell_type": "markdown",
      "metadata": {
        "id": "xTYpAFwMuqZX",
        "colab_type": "text"
      },
      "source": [
        "### Load required libraries"
      ]
    },
    {
      "cell_type": "code",
      "metadata": {
        "id": "qY9bgEsDrp8k",
        "colab_type": "code",
        "colab": {
          "base_uri": "https://localhost:8080/",
          "height": 80
        },
        "outputId": "87de0865-663e-46b1-f67a-41b61e6b1095"
      },
      "source": [
        "# %tensorflow_version 1.x\n",
        "from __future__ import print_function\n",
        "\n",
        "import pickle\n",
        "import matplotlib.pyplot as plt\n",
        "import numpy as np\n",
        "from skimage.color import rgb2gray\n",
        "import collections\n",
        "import xgboost as xgb\n",
        "import lightgbm as lgbm\n",
        "import joblib\n",
        "import time\n",
        "from time import gmtime, strftime, localtime\n",
        "\n",
        "# sklearn\n",
        "from sklearn.model_selection import RandomizedSearchCV, GridSearchCV\n",
        "from sklearn.multiclass import OneVsRestClassifier\n",
        "from sklearn.preprocessing import MultiLabelBinarizer, LabelEncoder\n",
        "from sklearn.metrics import f1_score, accuracy_score, recall_score, precision_score\n",
        "from sklearn.preprocessing import StandardScaler, maxabs_scale, minmax_scale\n",
        "from sklearn.decomposition import PCA\n",
        "\n",
        "# keras\n",
        "import keras\n",
        "from keras.preprocessing.image import ImageDataGenerator\n",
        "from keras.models import Sequential\n",
        "from keras.layers import Dense, Dropout, Activation, Flatten, LeakyReLU, PReLU\n",
        "from keras.layers import Conv2D, MaxPooling2D\n",
        "from keras.callbacks import ModelCheckpoint, EarlyStopping\n",
        "from keras.wrappers.scikit_learn import KerasClassifier\n",
        "from keras import regularizers"
      ],
      "execution_count": 2,
      "outputs": [
        {
          "output_type": "stream",
          "text": [
            "Using TensorFlow backend.\n"
          ],
          "name": "stderr"
        },
        {
          "output_type": "display_data",
          "data": {
            "text/html": [
              "<p style=\"color: red;\">\n",
              "The default version of TensorFlow in Colab will soon switch to TensorFlow 2.x.<br>\n",
              "We recommend you <a href=\"https://www.tensorflow.org/guide/migrate\" target=\"_blank\">upgrade</a> now \n",
              "or ensure your notebook will continue to use TensorFlow 1.x via the <code>%tensorflow_version 1.x</code> magic:\n",
              "<a href=\"https://colab.research.google.com/notebooks/tensorflow_version.ipynb\" target=\"_blank\">more info</a>.</p>\n"
            ],
            "text/plain": [
              "<IPython.core.display.HTML object>"
            ]
          },
          "metadata": {
            "tags": []
          }
        }
      ]
    },
    {
      "cell_type": "markdown",
      "metadata": {
        "id": "fF3WiwhjryhD",
        "colab_type": "text"
      },
      "source": [
        "### File path to cifar-100\n",
        "- The data has to be present under user's colab notebook directory.\n",
        "- Adjust file_path if required, and it will take effect through out this notebook"
      ]
    },
    {
      "cell_type": "code",
      "metadata": {
        "id": "-Lb0-0XYruod",
        "colab_type": "code",
        "colab": {}
      },
      "source": [
        "# Google Colab run\n",
        "file_path = '/content/drive/My Drive/Colab Notebooks/cifar-100-python/'\n",
        "\n",
        "# Local run\n",
        "# file_path = 'cifar-100-python/'"
      ],
      "execution_count": 0,
      "outputs": []
    },
    {
      "cell_type": "markdown",
      "metadata": {
        "id": "sSw9fkbFvMvq",
        "colab_type": "text"
      },
      "source": [
        "### Unpickle python files\n",
        "- Train - training set, 50000 images, 5 batches of 10000 images\n",
        "- Test - test set, 10000 images\n",
        "- Meta - label names"
      ]
    },
    {
      "cell_type": "code",
      "metadata": {
        "id": "biyA0utFwFJ0",
        "colab_type": "code",
        "colab": {}
      },
      "source": [
        "def unpickle(file):\n",
        "    with open(file, 'rb') as fo:\n",
        "        res = pickle.load(fo, encoding='bytes')\n",
        "    return res\n",
        "\n",
        "meta_raw = unpickle(file_path + 'meta')\n",
        "train_raw = unpickle(file_path + 'train')\n",
        "test_raw = unpickle(file_path + 'test')"
      ],
      "execution_count": 0,
      "outputs": []
    },
    {
      "cell_type": "markdown",
      "metadata": {
        "id": "tlBjIrh9wdM0",
        "colab_type": "text"
      },
      "source": [
        "### Explore Dataset and Sample images"
      ]
    },
    {
      "cell_type": "code",
      "metadata": {
        "id": "gk1KbaPQwbaO",
        "colab_type": "code",
        "colab": {
          "base_uri": "https://localhost:8080/",
          "height": 373
        },
        "outputId": "74c7839b-c998-4fa2-bf88-4178d0142b28"
      },
      "source": [
        "# display sample images\n",
        "train_rgb = train_raw[b'data'].reshape(len(train_raw[b'data']),3,1024)\n",
        "print(\"Data as per RGB channel : {}\".format(train_rgb.shape))\n",
        "test_rgb = test_raw[b'data'].reshape(len(test_raw[b'data']),3,1024)\n",
        "print(\"Data as per RGB channel : {}\".format(test_rgb.shape))\n",
        "\n",
        "image_disp = train_raw[b'data'].reshape(len(train_raw[b'data']),3,32,32).transpose(0, 2, 3, 1)\n",
        "print(\"RGB Data reshaped for matplotlib display : {}\".format(image_disp.shape))\n",
        "\n",
        "width = 10\n",
        "height = 10\n",
        "cols = 5\n",
        "rows = 2\n",
        "fig = plt.figure(figsize=(15, 5))\n",
        "\n",
        "for i in range(1,11):\n",
        "  plt.subplot(rows, cols, i)\n",
        "  pixel = image_disp[i]\n",
        "  image_label = train_raw[b'fine_labels'][i]\n",
        "  plt.imshow(pixel, cmap=plt.get_cmap('gray'))\n",
        "  plt.title(\"class : \"  + str(meta_raw[b'fine_label_names'][image_label]) )\n",
        "  plt.xticks([])\n",
        "  plt.yticks([])\n",
        "  \n",
        "plt.show()"
      ],
      "execution_count": 5,
      "outputs": [
        {
          "output_type": "stream",
          "text": [
            "Data as per RGB channel : (50000, 3, 1024)\n",
            "Data as per RGB channel : (10000, 3, 1024)\n",
            "RGB Data reshaped for matplotlib display : (50000, 32, 32, 3)\n"
          ],
          "name": "stdout"
        },
        {
          "output_type": "display_data",
          "data": {
            "image/png": "[encoded data removed]",
            "text/plain": [
              "<Figure size 1080x360 with 10 Axes>"
            ]
          },
          "metadata": {
            "tags": []
          }
        }
      ]
    },
    {
      "cell_type": "code",
      "metadata": {
        "id": "8rrInBo49FMz",
        "colab_type": "code",
        "colab": {
          "base_uri": "https://localhost:8080/",
          "height": 51
        },
        "outputId": "cc94ee94-d313-4700-fe3b-06b6ececdbcb"
      },
      "source": [
        "# Fetch Train and Test labels\n",
        "train_labels = np.asarray(train_raw[b'fine_labels'])\n",
        "test_labels = np.asarray(test_raw[b'fine_labels'])\n",
        "\n",
        "print(train_labels.shape)\n",
        "print(test_labels.shape)"
      ],
      "execution_count": 6,
      "outputs": [
        {
          "output_type": "stream",
          "text": [
            "(50000,)\n",
            "(10000,)\n"
          ],
          "name": "stdout"
        }
      ]
    },
    {
      "cell_type": "markdown",
      "metadata": {
        "id": "JDshmeJv9RT7",
        "colab_type": "text"
      },
      "source": [
        "### Image Pre-processing"
      ]
    },
    {
      "cell_type": "code",
      "metadata": {
        "id": "vvjMD7E889t_",
        "colab_type": "code",
        "colab": {}
      },
      "source": [
        "# Standardise data\n",
        "def standardize_data(x):\n",
        "    \"\"\"\n",
        "        argument\n",
        "            - input image data in numpy array [3, 1024]\n",
        "        return\n",
        "            - processed image \n",
        "    \"\"\"\n",
        "    mu = x.mean(0)\n",
        "    stdv = x.std(0)\n",
        "    # standard_x = x / 255           # Max division - output range 0 to 1\n",
        "    # standard_x = (x - mu) / stdv   # Standardise mean and std\n",
        "    # standard_x = x / stdv          # only by std\n",
        "    standard_x = x                   # No proprocessing\n",
        "    return standard_x\n",
        "\n",
        "X_train = standardize_data(train_rgb)\n",
        "X_test = standardize_data(test_rgb)"
      ],
      "execution_count": 0,
      "outputs": []
    },
    {
      "cell_type": "code",
      "metadata": {
        "id": "XDOF__6d9_0o",
        "colab_type": "code",
        "colab": {
          "base_uri": "https://localhost:8080/",
          "height": 51
        },
        "outputId": "1c3e5251-3833-45d8-9b5a-02372baae2ea"
      },
      "source": [
        "# Using sklearn preprocessing\n",
        "\n",
        "X_train = X_train.reshape(50000,3072)\n",
        "X_test = X_test.reshape(10000,3072)\n",
        "\n",
        "X_train = minmax_scale(train_raw[b'data'], feature_range=(-1,1))\n",
        "X_test = minmax_scale(test_raw[b'data'], feature_range=(-1,1))\n",
        "\n",
        "print(X_train.shape, X_test.shape)\n",
        "# Range after pre-processing\n",
        "print(max(X_train[:,0]), min(X_train[:,0]))"
      ],
      "execution_count": 8,
      "outputs": [
        {
          "output_type": "stream",
          "text": [
            "(50000, 3072) (10000, 3072)\n",
            "1.0 -1.0\n"
          ],
          "name": "stdout"
        }
      ]
    },
    {
      "cell_type": "markdown",
      "metadata": {
        "id": "S8w_gaxIKtyl",
        "colab_type": "text"
      },
      "source": [
        "#### Dimensionality Reduction\n",
        "Principle Component Analysis (PCA) has been implemented to reduce dimension.\n",
        "The aim to implement PCA was to improve the model performance and time of training."
      ]
    },
    {
      "cell_type": "code",
      "metadata": {
        "id": "Nar6zPSpKs2o",
        "colab_type": "code",
        "colab": {
          "base_uri": "https://localhost:8080/",
          "height": 34
        },
        "outputId": "bf39bed1-d280-4734-81e3-0d9f2968ee93"
      },
      "source": [
        "pca = PCA(random_state = 1, n_components = 1000)\n",
        "pca.fit(X_train)\n",
        "sum(pca.explained_variance_ratio_)"
      ],
      "execution_count": 9,
      "outputs": [
        {
          "output_type": "execute_result",
          "data": {
            "text/plain": [
              "0.9960582195001813"
            ]
          },
          "metadata": {
            "tags": []
          },
          "execution_count": 9
        }
      ]
    },
    {
      "cell_type": "code",
      "metadata": {
        "id": "6VU84H9sLDTt",
        "colab_type": "code",
        "colab": {}
      },
      "source": [
        "#Transform our training and validation data\n",
        "PCA_x_train = pca.transform(X_train)\n",
        "PCA_x_test = pca.transform(X_test)"
      ],
      "execution_count": 0,
      "outputs": []
    },
    {
      "cell_type": "markdown",
      "metadata": {
        "id": "nOvFLGoM-qoH",
        "colab_type": "text"
      },
      "source": [
        "## *Experiment Setup*"
      ]
    },
    {
      "cell_type": "code",
      "metadata": {
        "id": "hF3Y8muM-puT",
        "colab_type": "code",
        "colab": {
          "base_uri": "https://localhost:8080/",
          "height": 34
        },
        "outputId": "b8353145-e311-4cdf-978b-e31346d35db8"
      },
      "source": [
        "# registering time for perfomance measurement\n",
        "start = time.time()\n",
        "print(strftime(\"%a, %d %b %Y %H:%M:%S +0000\", localtime()))"
      ],
      "execution_count": 11,
      "outputs": [
        {
          "output_type": "stream",
          "text": [
            "Fri, 08 Nov 2019 04:29:20 +0000\n"
          ],
          "name": "stdout"
        }
      ]
    },
    {
      "cell_type": "markdown",
      "metadata": {
        "id": "2thJeBj2B1rh",
        "colab_type": "text"
      },
      "source": [
        "#### Hyper Parameter Grid"
      ]
    },
    {
      "cell_type": "code",
      "metadata": {
        "id": "HPcvm-KX-vKN",
        "colab_type": "code",
        "colab": {}
      },
      "source": [
        "# parameter for grid search\n",
        "parameters = {\"learning_rate\": [0.01, 0.1]}"
      ],
      "execution_count": 0,
      "outputs": []
    },
    {
      "cell_type": "markdown",
      "metadata": {
        "id": "RYZvfj0cB509",
        "colab_type": "text"
      },
      "source": [
        "#### Define 10-fold cross validation to find best set of hyper parameters"
      ]
    },
    {
      "cell_type": "code",
      "metadata": {
        "id": "DuiF9N2BCA13",
        "colab_type": "code",
        "colab": {}
      },
      "source": [
        "# Scoring F1_mirco\n",
        "lgbm_clf = lgbm.LGBMClassifier(verbosity = 2,\n",
        "                               min_child_weight=4,    # Conservative model to avoid overfitting\n",
        "                               subsample=0.5,         # Limited samples for fast processing\n",
        "                               colsample_bytree=1,    # Reduced number of features (out of 3072) for fast processing if not using PCA\n",
        "                               n_estimators=20,\n",
        "                               max_depth=4,\n",
        "                               objective = \"multiclass\")\n",
        "\n",
        "lgbm_rscv = GridSearchCV(estimator=lgbm_clf,\n",
        "                         param_grid = parameters,\n",
        "                         scoring = \"f1_micro\",\n",
        "                         n_jobs=-1,\n",
        "                         cv = 10)"
      ],
      "execution_count": 0,
      "outputs": []
    },
    {
      "cell_type": "markdown",
      "metadata": {
        "id": "YfiUIQ7-DzQk",
        "colab_type": "text"
      },
      "source": [
        "#### Train using experiment setup\n",
        "\n"
      ]
    },
    {
      "cell_type": "code",
      "metadata": {
        "id": "NxgYEB0CD3Oj",
        "colab_type": "code",
        "colab": {
          "base_uri": "https://localhost:8080/",
          "height": 207
        },
        "outputId": "2fe8974e-1dd5-443c-cf71-2bb5b8fd2d1d"
      },
      "source": [
        "# Train the model\n",
        "model_lgbm = lgbm_rscv.fit(PCA_x_train, train_labels)\n",
        "\n",
        "print(\"Best: %f using %s\" % (lgbm_rscv.best_score_, lgbm_rscv.best_params_))\n",
        "print(lgbm_rscv.cv_results_)"
      ],
      "execution_count": 14,
      "outputs": [
        {
          "output_type": "stream",
          "text": [
            "/usr/local/lib/python3.6/dist-packages/sklearn/model_selection/_search.py:266: UserWarning: The total space of parameters 4 is smaller than n_iter=10. Running 4 iterations. For exhaustive searches, use GridSearchCV.\n",
            "  % (grid_size, self.n_iter, grid_size), UserWarning)\n"
          ],
          "name": "stderr"
        },
        {
          "output_type": "stream",
          "text": [
            "Best: 0.112000 using {'max_depth': 6, 'learning_rate': 0.1}\n",
            "{'mean_fit_time': array([31.52062452, 46.4610287 , 31.35360591, 46.73320839]), 'std_fit_time': array([0.73376618, 0.43374882, 0.70633795, 0.57696455]), 'mean_score_time': array([0.05775361, 0.06598966, 0.0549119 , 0.05890491]), 'std_score_time': array([0.01220433, 0.01376965, 0.00453557, 0.00051809]), 'param_max_depth': masked_array(data=[4, 6, 4, 6],\n",
            "             mask=[False, False, False, False],\n",
            "       fill_value='?',\n",
            "            dtype=object), 'param_learning_rate': masked_array(data=[0.01, 0.01, 0.1, 0.1],\n",
            "             mask=[False, False, False, False],\n",
            "       fill_value='?',\n",
            "            dtype=object), 'params': [{'max_depth': 4, 'learning_rate': 0.01}, {'max_depth': 6, 'learning_rate': 0.01}, {'max_depth': 4, 'learning_rate': 0.1}, {'max_depth': 6, 'learning_rate': 0.1}], 'split0_test_score': array([0.1102, 0.1118, 0.1102, 0.1118]), 'split1_test_score': array([0.1144, 0.1176, 0.1144, 0.1176]), 'split2_test_score': array([0.1214, 0.1202, 0.1214, 0.1202]), 'split3_test_score': array([0.1046, 0.1082, 0.1046, 0.1082]), 'split4_test_score': array([0.108 , 0.1114, 0.108 , 0.1114]), 'split5_test_score': array([0.1088, 0.1146, 0.1088, 0.1146]), 'split6_test_score': array([0.1056, 0.112 , 0.1056, 0.112 ]), 'split7_test_score': array([0.1092, 0.1064, 0.1092, 0.1064]), 'split8_test_score': array([0.1098, 0.1104, 0.1098, 0.1106]), 'split9_test_score': array([0.105 , 0.1072, 0.105 , 0.1072]), 'mean_test_score': array([0.1097 , 0.11198, 0.1097 , 0.112  ]), 'std_test_score': array([0.00477598, 0.00420899, 0.00477598, 0.0042019 ]), 'rank_test_score': array([3, 2, 3, 1], dtype=int32)}\n"
          ],
          "name": "stdout"
        }
      ]
    },
    {
      "cell_type": "code",
      "metadata": {
        "id": "77kCtzDpVV-4",
        "colab_type": "code",
        "colab": {}
      },
      "source": [
        "# import lightgbm as lgbm\n",
        "# lgbm_clf = lgbm.LGBMClassifier(verbosity = 2,\n",
        "#                                learning_rate=0.01,\n",
        "#                                max_depth=4,\n",
        "#                                min_child_weight=4,\n",
        "#                                n_estimators=50,\n",
        "#                                subsample=0.5,\n",
        "#                                colsample_bytree=1.0,\n",
        "#                                objective = \"multiclass\")"
      ],
      "execution_count": 0,
      "outputs": []
    },
    {
      "cell_type": "code",
      "metadata": {
        "id": "fOSP5hDHDQH1",
        "colab_type": "code",
        "colab": {}
      },
      "source": [
        "# Predictions on train and test set\n",
        "y_train_preds = model_lgbm.predict(PCA_x_train)\n",
        "y_test_preds = model_lgbm.predict(PCA_x_test)\n",
        "\n",
        "# y_train_preds = lgbm_clf.predict(PCA_x_train)\n",
        "# y_test_preds = lgbm_clf.predict(PCA_x_test)"
      ],
      "execution_count": 0,
      "outputs": []
    },
    {
      "cell_type": "code",
      "metadata": {
        "id": "umq9jwW5DcJE",
        "colab_type": "code",
        "colab": {
          "base_uri": "https://localhost:8080/",
          "height": 68
        },
        "outputId": "fa995cb0-aec8-4f79-f1eb-86a6ff226efb"
      },
      "source": [
        "print(\"--- Total time taken in Training and Validation ---\")\n",
        "print(\"--- %s sec ---\" % (time.time() - start))\n",
        "print(strftime(\"%a, %d %b %Y %H:%M:%S +0000\", localtime()))"
      ],
      "execution_count": 16,
      "outputs": [
        {
          "output_type": "stream",
          "text": [
            "--- Total time taken in Training and Validation ---\n",
            "--- 1618.1127445697784 sec ---\n",
            "Fri, 08 Nov 2019 04:56:18 +0000\n"
          ],
          "name": "stdout"
        }
      ]
    },
    {
      "cell_type": "markdown",
      "metadata": {
        "id": "FkHIHsPWE6ox",
        "colab_type": "text"
      },
      "source": [
        "#### Evaluation Metric - *Training* Set"
      ]
    },
    {
      "cell_type": "code",
      "metadata": {
        "id": "OFkLlK6PDWs3",
        "colab_type": "code",
        "colab": {
          "base_uri": "https://localhost:8080/",
          "height": 153
        },
        "outputId": "5ecd6c56-0e32-485f-d380-e8be46dd24e4"
      },
      "source": [
        "print(\"-\"*80)\n",
        "print(\"Evaluation Metric - Training Set\")\n",
        "print(\"-\"*80)\n",
        "\n",
        "train_accuracy = accuracy_score(train_labels,y_train_preds)\n",
        "print(\"\\nAccuracy:\",train_accuracy)\n",
        "\n",
        "train_f1_score = f1_score(train_labels,y_train_preds, average = 'weighted')\n",
        "print(\"f1_Score:\",train_f1_score)\n",
        "\n",
        "train_precision = precision_score(train_labels,y_train_preds, average = 'weighted')\n",
        "print(\"Rrecision:\",train_precision)\n",
        "\n",
        "train_recall = recall_score(train_labels,y_train_preds, average = 'weighted')\n",
        "print(\"Recall:\",train_recall)"
      ],
      "execution_count": 17,
      "outputs": [
        {
          "output_type": "stream",
          "text": [
            "--------------------------------------------------------------------------------\n",
            "Evaluation Metric - Training Set\n",
            "--------------------------------------------------------------------------------\n",
            "\n",
            "Accuracy: 0.17338\n",
            "f1_Score: 0.16144377338897978\n",
            "Rrecision: 0.16194229309713623\n",
            "Recall: 0.17338\n"
          ],
          "name": "stdout"
        }
      ]
    },
    {
      "cell_type": "markdown",
      "metadata": {
        "id": "EAlySfGuF2iZ",
        "colab_type": "text"
      },
      "source": [
        "#### Evaluation Metric - *Test* Set"
      ]
    },
    {
      "cell_type": "code",
      "metadata": {
        "id": "2_J8Bp8YF415",
        "colab_type": "code",
        "colab": {
          "base_uri": "https://localhost:8080/",
          "height": 153
        },
        "outputId": "687f3c07-7bca-4b11-b6d3-f5c22bc5b685"
      },
      "source": [
        "print(\"-\"*80)\n",
        "print(\"Evaluation Metric - Test Set\")\n",
        "print(\"-\"*80)\n",
        "\n",
        "test_accuracy = accuracy_score(test_labels,y_test_preds)\n",
        "print(\"\\nAccuracy:\",test_accuracy)\n",
        "\n",
        "test_f1_score = f1_score(test_labels,y_test_preds, average = 'weighted')\n",
        "print(\"f1_Score:\",test_f1_score)\n",
        "\n",
        "test_precision = precision_score(test_labels,y_test_preds, average = 'weighted')\n",
        "print(\"Rrecision:\",test_precision)\n",
        "\n",
        "test_recall = recall_score(test_labels,y_test_preds, average = 'weighted')\n",
        "print(\"Recall:\",test_recall)\n"
      ],
      "execution_count": 18,
      "outputs": [
        {
          "output_type": "stream",
          "text": [
            "--------------------------------------------------------------------------------\n",
            "Evaluation Metric - Test Set\n",
            "--------------------------------------------------------------------------------\n",
            "\n",
            "Accuracy: 0.116\n",
            "f1_Score: 0.10453935819067194\n",
            "Rrecision: 0.10180119272729071\n",
            "Recall: 0.116\n"
          ],
          "name": "stdout"
        }
      ]
    },
    {
      "cell_type": "markdown",
      "metadata": {
        "id": "DW1CIzzIGNNe",
        "colab_type": "text"
      },
      "source": [
        "### Test Set Prediction Heatmap"
      ]
    },
    {
      "cell_type": "code",
      "metadata": {
        "id": "q-A33AKxGIpA",
        "colab_type": "code",
        "colab": {
          "base_uri": "https://localhost:8080/",
          "height": 504
        },
        "outputId": "1dae7624-d036-4bfb-bd06-27c3b229c9c3"
      },
      "source": [
        "#Check model accuracy, F1 score, Specivity and sensitivity\n",
        "import seaborn as sn\n",
        "import pandas as pd\n",
        "import matplotlib.pyplot as plt\n",
        "from sklearn.metrics import classification_report, confusion_matrix\n",
        "\n",
        "df_cm = confusion_matrix(test_labels,y_test_preds)\n",
        "df_cm = pd.DataFrame(df_cm)\n",
        "\n",
        "plt.figure(figsize = (15,8))\n",
        "sn.heatmap(df_cm)"
      ],
      "execution_count": 19,
      "outputs": [
        {
          "output_type": "execute_result",
          "data": {
            "text/plain": [
              "<matplotlib.axes._subplots.AxesSubplot at 0x7f02d79e4b00>"
            ]
          },
          "metadata": {
            "tags": []
          },
          "execution_count": 19
        },
        {
          "output_type": "display_data",
          "data": {
            "image/png": "[encoded data removed]",
            "text/plain": [
              "<Figure size 1080x576 with 2 Axes>"
            ]
          },
          "metadata": {
            "tags": []
          }
        }
      ]
    },
    {
      "cell_type": "markdown",
      "metadata": {
        "id": "13SJKLsUGdWu",
        "colab_type": "text"
      },
      "source": [
        "### Test Set Classification Report"
      ]
    },
    {
      "cell_type": "code",
      "metadata": {
        "id": "z6OGKCTGGdlf",
        "colab_type": "code",
        "colab": {
          "base_uri": "https://localhost:8080/",
          "height": 1000
        },
        "outputId": "287c42fa-9f70-438b-fc4f-6a289666bffc"
      },
      "source": [
        "print(classification_report(test_labels,y_test_preds))  "
      ],
      "execution_count": 20,
      "outputs": [
        {
          "output_type": "stream",
          "text": [
            "              precision    recall  f1-score   support\n",
            "\n",
            "           0       0.28      0.33      0.30       100\n",
            "           1       0.14      0.23      0.17       100\n",
            "           2       0.03      0.03      0.03       100\n",
            "           3       0.10      0.12      0.11       100\n",
            "           4       0.07      0.05      0.06       100\n",
            "           5       0.06      0.04      0.05       100\n",
            "           6       0.10      0.07      0.08       100\n",
            "           7       0.11      0.15      0.13       100\n",
            "           8       0.05      0.04      0.05       100\n",
            "           9       0.11      0.09      0.10       100\n",
            "          10       0.08      0.04      0.05       100\n",
            "          11       0.03      0.02      0.02       100\n",
            "          12       0.08      0.05      0.06       100\n",
            "          13       0.08      0.08      0.08       100\n",
            "          14       0.00      0.00      0.00       100\n",
            "          15       0.04      0.03      0.03       100\n",
            "          16       0.28      0.14      0.19       100\n",
            "          17       0.12      0.15      0.14       100\n",
            "          18       0.12      0.14      0.13       100\n",
            "          19       0.02      0.01      0.01       100\n",
            "          20       0.17      0.27      0.21       100\n",
            "          21       0.08      0.13      0.10       100\n",
            "          22       0.16      0.16      0.16       100\n",
            "          23       0.17      0.28      0.21       100\n",
            "          24       0.24      0.39      0.30       100\n",
            "          25       0.02      0.01      0.01       100\n",
            "          26       0.05      0.03      0.04       100\n",
            "          27       0.05      0.02      0.03       100\n",
            "          28       0.21      0.16      0.18       100\n",
            "          29       0.16      0.08      0.11       100\n",
            "          30       0.18      0.29      0.22       100\n",
            "          31       0.03      0.03      0.03       100\n",
            "          32       0.10      0.06      0.07       100\n",
            "          33       0.08      0.11      0.09       100\n",
            "          34       0.03      0.03      0.03       100\n",
            "          35       0.03      0.02      0.02       100\n",
            "          36       0.12      0.13      0.12       100\n",
            "          37       0.01      0.01      0.01       100\n",
            "          38       0.01      0.01      0.01       100\n",
            "          39       0.06      0.03      0.04       100\n",
            "          40       0.07      0.04      0.05       100\n",
            "          41       0.38      0.42      0.40       100\n",
            "          42       0.05      0.03      0.04       100\n",
            "          43       0.08      0.13      0.10       100\n",
            "          44       0.02      0.01      0.01       100\n",
            "          45       0.07      0.06      0.06       100\n",
            "          46       0.02      0.01      0.01       100\n",
            "          47       0.12      0.13      0.13       100\n",
            "          48       0.07      0.09      0.08       100\n",
            "          49       0.16      0.24      0.19       100\n",
            "          50       0.01      0.01      0.01       100\n",
            "          51       0.11      0.13      0.12       100\n",
            "          52       0.20      0.41      0.27       100\n",
            "          53       0.21      0.41      0.28       100\n",
            "          54       0.17      0.15      0.16       100\n",
            "          55       0.04      0.02      0.03       100\n",
            "          56       0.06      0.08      0.07       100\n",
            "          57       0.10      0.11      0.10       100\n",
            "          58       0.09      0.07      0.08       100\n",
            "          59       0.05      0.05      0.05       100\n",
            "          60       0.22      0.45      0.29       100\n",
            "          61       0.19      0.22      0.21       100\n",
            "          62       0.16      0.21      0.18       100\n",
            "          63       0.11      0.16      0.13       100\n",
            "          64       0.03      0.02      0.02       100\n",
            "          65       0.04      0.01      0.02       100\n",
            "          66       0.04      0.03      0.03       100\n",
            "          67       0.21      0.21      0.21       100\n",
            "          68       0.22      0.31      0.26       100\n",
            "          69       0.10      0.12      0.11       100\n",
            "          70       0.21      0.24      0.23       100\n",
            "          71       0.17      0.30      0.22       100\n",
            "          72       0.00      0.00      0.00       100\n",
            "          73       0.21      0.22      0.22       100\n",
            "          74       0.06      0.09      0.07       100\n",
            "          75       0.10      0.13      0.11       100\n",
            "          76       0.09      0.10      0.10       100\n",
            "          77       0.11      0.04      0.06       100\n",
            "          78       0.02      0.01      0.01       100\n",
            "          79       0.10      0.09      0.10       100\n",
            "          80       0.03      0.01      0.02       100\n",
            "          81       0.07      0.03      0.04       100\n",
            "          82       0.18      0.27      0.22       100\n",
            "          83       0.08      0.06      0.07       100\n",
            "          84       0.07      0.06      0.06       100\n",
            "          85       0.16      0.20      0.18       100\n",
            "          86       0.11      0.15      0.13       100\n",
            "          87       0.08      0.04      0.05       100\n",
            "          88       0.02      0.02      0.02       100\n",
            "          89       0.05      0.05      0.05       100\n",
            "          90       0.08      0.08      0.08       100\n",
            "          91       0.21      0.29      0.24       100\n",
            "          92       0.08      0.07      0.07       100\n",
            "          93       0.07      0.03      0.04       100\n",
            "          94       0.19      0.15      0.17       100\n",
            "          95       0.15      0.23      0.18       100\n",
            "          96       0.12      0.15      0.13       100\n",
            "          97       0.03      0.03      0.03       100\n",
            "          98       0.04      0.02      0.03       100\n",
            "          99       0.04      0.04      0.04       100\n",
            "\n",
            "    accuracy                           0.12     10000\n",
            "   macro avg       0.10      0.12      0.10     10000\n",
            "weighted avg       0.10      0.12      0.10     10000\n",
            "\n"
          ],
          "name": "stdout"
        }
      ]
    }
  ]
}